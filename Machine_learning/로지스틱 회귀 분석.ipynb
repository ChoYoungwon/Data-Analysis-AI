{
 "cells": [
  {
   "cell_type": "markdown",
   "source": [
    "### 로지스틱 회귀 분석\n",
    "\n",
    "선형 회귀는 예측 문제를 풀기에는 적합하지만 분류 문제를 풀기에는 적합하지 않음\n",
    "**이유 : 결과 값이 제한되는 상황에서 회귀 모형의 결과값에 제한이 없음**\n"
   ],
   "metadata": {
    "collapsed": false
   },
   "id": "386da8d86f1ae6c4"
  },
  {
   "cell_type": "markdown",
   "source": [
    "### 시그모이드 함수 사용\n",
    "\n",
    "$$\n",
    "log(\\frac{y}{1-y}) = W^Tx + b\n",
    "$$\n",
    "\n",
    "**분자(y) : 사건이 발생할 확률**\n",
    "**분모(1-y) : 사건이 발생하지 않을 확률**\n",
    "\n",
    "**아웃풋이 0과 1 사이의 값만 가지게 됨**"
   ],
   "metadata": {
    "collapsed": false
   },
   "id": "37e0264ace08b1ea"
  },
  {
   "cell_type": "code",
   "outputs": [],
   "source": [
    "# 데이터 불러오기(유방암 예측 모형)\n",
    "\n",
    "from sklearn import datasets\n",
    "raw_cancer = datasets.load_breast_cancer()"
   ],
   "metadata": {
    "collapsed": true,
    "ExecuteTime": {
     "end_time": "2024-08-26T13:33:59.711514Z",
     "start_time": "2024-08-26T13:33:53.946361Z"
    }
   },
   "id": "initial_id",
   "execution_count": 2
  },
  {
   "cell_type": "code",
   "outputs": [],
   "source": [
    "# 피처, 타깃 데이터 지정\n",
    "X = raw_cancer.data\n",
    "y = raw_cancer.target"
   ],
   "metadata": {
    "collapsed": false,
    "ExecuteTime": {
     "end_time": "2024-08-26T13:33:59.719538Z",
     "start_time": "2024-08-26T13:33:59.714545Z"
    }
   },
   "id": "b6bc4c0ad5c6ee6d",
   "execution_count": 3
  },
  {
   "cell_type": "code",
   "outputs": [],
   "source": [
    "# 트레이닝/테스트 데이터 분할\n",
    "from sklearn.model_selection import train_test_split\n",
    "X_tn, X_te, y_tn, y_te = train_test_split(X, y, random_state=0)"
   ],
   "metadata": {
    "collapsed": false,
    "ExecuteTime": {
     "end_time": "2024-08-26T13:34:00.228485Z",
     "start_time": "2024-08-26T13:33:59.723078Z"
    }
   },
   "id": "82e00028586bd259",
   "execution_count": 4
  },
  {
   "cell_type": "code",
   "outputs": [],
   "source": [
    "# 데이터 표준화\n",
    "from sklearn.preprocessing import StandardScaler\n",
    "std_scale = StandardScaler()\n",
    "std_scale.fit(X_tn)\n",
    "X_tn_std = std_scale.transform(X_tn)\n",
    "X_te_std = std_scale.transform(X_te)"
   ],
   "metadata": {
    "collapsed": false,
    "ExecuteTime": {
     "end_time": "2024-08-26T13:34:00.239712Z",
     "start_time": "2024-08-26T13:34:00.231027Z"
    }
   },
   "id": "f4bcdcbd20f8e992",
   "execution_count": 5
  },
  {
   "cell_type": "code",
   "outputs": [
    {
     "data": {
      "text/plain": "LogisticRegression()",
      "text/html": "<style>#sk-container-id-1 {\n  /* Definition of color scheme common for light and dark mode */\n  --sklearn-color-text: black;\n  --sklearn-color-line: gray;\n  /* Definition of color scheme for unfitted estimators */\n  --sklearn-color-unfitted-level-0: #fff5e6;\n  --sklearn-color-unfitted-level-1: #f6e4d2;\n  --sklearn-color-unfitted-level-2: #ffe0b3;\n  --sklearn-color-unfitted-level-3: chocolate;\n  /* Definition of color scheme for fitted estimators */\n  --sklearn-color-fitted-level-0: #f0f8ff;\n  --sklearn-color-fitted-level-1: #d4ebff;\n  --sklearn-color-fitted-level-2: #b3dbfd;\n  --sklearn-color-fitted-level-3: cornflowerblue;\n\n  /* Specific color for light theme */\n  --sklearn-color-text-on-default-background: var(--sg-text-color, var(--theme-code-foreground, var(--jp-content-font-color1, black)));\n  --sklearn-color-background: var(--sg-background-color, var(--theme-background, var(--jp-layout-color0, white)));\n  --sklearn-color-border-box: var(--sg-text-color, var(--theme-code-foreground, var(--jp-content-font-color1, black)));\n  --sklearn-color-icon: #696969;\n\n  @media (prefers-color-scheme: dark) {\n    /* Redefinition of color scheme for dark theme */\n    --sklearn-color-text-on-default-background: var(--sg-text-color, var(--theme-code-foreground, var(--jp-content-font-color1, white)));\n    --sklearn-color-background: var(--sg-background-color, var(--theme-background, var(--jp-layout-color0, #111)));\n    --sklearn-color-border-box: var(--sg-text-color, var(--theme-code-foreground, var(--jp-content-font-color1, white)));\n    --sklearn-color-icon: #878787;\n  }\n}\n\n#sk-container-id-1 {\n  color: var(--sklearn-color-text);\n}\n\n#sk-container-id-1 pre {\n  padding: 0;\n}\n\n#sk-container-id-1 input.sk-hidden--visually {\n  border: 0;\n  clip: rect(1px 1px 1px 1px);\n  clip: rect(1px, 1px, 1px, 1px);\n  height: 1px;\n  margin: -1px;\n  overflow: hidden;\n  padding: 0;\n  position: absolute;\n  width: 1px;\n}\n\n#sk-container-id-1 div.sk-dashed-wrapped {\n  border: 1px dashed var(--sklearn-color-line);\n  margin: 0 0.4em 0.5em 0.4em;\n  box-sizing: border-box;\n  padding-bottom: 0.4em;\n  background-color: var(--sklearn-color-background);\n}\n\n#sk-container-id-1 div.sk-container {\n  /* jupyter's `normalize.less` sets `[hidden] { display: none; }`\n     but bootstrap.min.css set `[hidden] { display: none !important; }`\n     so we also need the `!important` here to be able to override the\n     default hidden behavior on the sphinx rendered scikit-learn.org.\n     See: https://github.com/scikit-learn/scikit-learn/issues/21755 */\n  display: inline-block !important;\n  position: relative;\n}\n\n#sk-container-id-1 div.sk-text-repr-fallback {\n  display: none;\n}\n\ndiv.sk-parallel-item,\ndiv.sk-serial,\ndiv.sk-item {\n  /* draw centered vertical line to link estimators */\n  background-image: linear-gradient(var(--sklearn-color-text-on-default-background), var(--sklearn-color-text-on-default-background));\n  background-size: 2px 100%;\n  background-repeat: no-repeat;\n  background-position: center center;\n}\n\n/* Parallel-specific style estimator block */\n\n#sk-container-id-1 div.sk-parallel-item::after {\n  content: \"\";\n  width: 100%;\n  border-bottom: 2px solid var(--sklearn-color-text-on-default-background);\n  flex-grow: 1;\n}\n\n#sk-container-id-1 div.sk-parallel {\n  display: flex;\n  align-items: stretch;\n  justify-content: center;\n  background-color: var(--sklearn-color-background);\n  position: relative;\n}\n\n#sk-container-id-1 div.sk-parallel-item {\n  display: flex;\n  flex-direction: column;\n}\n\n#sk-container-id-1 div.sk-parallel-item:first-child::after {\n  align-self: flex-end;\n  width: 50%;\n}\n\n#sk-container-id-1 div.sk-parallel-item:last-child::after {\n  align-self: flex-start;\n  width: 50%;\n}\n\n#sk-container-id-1 div.sk-parallel-item:only-child::after {\n  width: 0;\n}\n\n/* Serial-specific style estimator block */\n\n#sk-container-id-1 div.sk-serial {\n  display: flex;\n  flex-direction: column;\n  align-items: center;\n  background-color: var(--sklearn-color-background);\n  padding-right: 1em;\n  padding-left: 1em;\n}\n\n\n/* Toggleable style: style used for estimator/Pipeline/ColumnTransformer box that is\nclickable and can be expanded/collapsed.\n- Pipeline and ColumnTransformer use this feature and define the default style\n- Estimators will overwrite some part of the style using the `sk-estimator` class\n*/\n\n/* Pipeline and ColumnTransformer style (default) */\n\n#sk-container-id-1 div.sk-toggleable {\n  /* Default theme specific background. It is overwritten whether we have a\n  specific estimator or a Pipeline/ColumnTransformer */\n  background-color: var(--sklearn-color-background);\n}\n\n/* Toggleable label */\n#sk-container-id-1 label.sk-toggleable__label {\n  cursor: pointer;\n  display: block;\n  width: 100%;\n  margin-bottom: 0;\n  padding: 0.5em;\n  box-sizing: border-box;\n  text-align: center;\n}\n\n#sk-container-id-1 label.sk-toggleable__label-arrow:before {\n  /* Arrow on the left of the label */\n  content: \"▸\";\n  float: left;\n  margin-right: 0.25em;\n  color: var(--sklearn-color-icon);\n}\n\n#sk-container-id-1 label.sk-toggleable__label-arrow:hover:before {\n  color: var(--sklearn-color-text);\n}\n\n/* Toggleable content - dropdown */\n\n#sk-container-id-1 div.sk-toggleable__content {\n  max-height: 0;\n  max-width: 0;\n  overflow: hidden;\n  text-align: left;\n  /* unfitted */\n  background-color: var(--sklearn-color-unfitted-level-0);\n}\n\n#sk-container-id-1 div.sk-toggleable__content.fitted {\n  /* fitted */\n  background-color: var(--sklearn-color-fitted-level-0);\n}\n\n#sk-container-id-1 div.sk-toggleable__content pre {\n  margin: 0.2em;\n  border-radius: 0.25em;\n  color: var(--sklearn-color-text);\n  /* unfitted */\n  background-color: var(--sklearn-color-unfitted-level-0);\n}\n\n#sk-container-id-1 div.sk-toggleable__content.fitted pre {\n  /* unfitted */\n  background-color: var(--sklearn-color-fitted-level-0);\n}\n\n#sk-container-id-1 input.sk-toggleable__control:checked~div.sk-toggleable__content {\n  /* Expand drop-down */\n  max-height: 200px;\n  max-width: 100%;\n  overflow: auto;\n}\n\n#sk-container-id-1 input.sk-toggleable__control:checked~label.sk-toggleable__label-arrow:before {\n  content: \"▾\";\n}\n\n/* Pipeline/ColumnTransformer-specific style */\n\n#sk-container-id-1 div.sk-label input.sk-toggleable__control:checked~label.sk-toggleable__label {\n  color: var(--sklearn-color-text);\n  background-color: var(--sklearn-color-unfitted-level-2);\n}\n\n#sk-container-id-1 div.sk-label.fitted input.sk-toggleable__control:checked~label.sk-toggleable__label {\n  background-color: var(--sklearn-color-fitted-level-2);\n}\n\n/* Estimator-specific style */\n\n/* Colorize estimator box */\n#sk-container-id-1 div.sk-estimator input.sk-toggleable__control:checked~label.sk-toggleable__label {\n  /* unfitted */\n  background-color: var(--sklearn-color-unfitted-level-2);\n}\n\n#sk-container-id-1 div.sk-estimator.fitted input.sk-toggleable__control:checked~label.sk-toggleable__label {\n  /* fitted */\n  background-color: var(--sklearn-color-fitted-level-2);\n}\n\n#sk-container-id-1 div.sk-label label.sk-toggleable__label,\n#sk-container-id-1 div.sk-label label {\n  /* The background is the default theme color */\n  color: var(--sklearn-color-text-on-default-background);\n}\n\n/* On hover, darken the color of the background */\n#sk-container-id-1 div.sk-label:hover label.sk-toggleable__label {\n  color: var(--sklearn-color-text);\n  background-color: var(--sklearn-color-unfitted-level-2);\n}\n\n/* Label box, darken color on hover, fitted */\n#sk-container-id-1 div.sk-label.fitted:hover label.sk-toggleable__label.fitted {\n  color: var(--sklearn-color-text);\n  background-color: var(--sklearn-color-fitted-level-2);\n}\n\n/* Estimator label */\n\n#sk-container-id-1 div.sk-label label {\n  font-family: monospace;\n  font-weight: bold;\n  display: inline-block;\n  line-height: 1.2em;\n}\n\n#sk-container-id-1 div.sk-label-container {\n  text-align: center;\n}\n\n/* Estimator-specific */\n#sk-container-id-1 div.sk-estimator {\n  font-family: monospace;\n  border: 1px dotted var(--sklearn-color-border-box);\n  border-radius: 0.25em;\n  box-sizing: border-box;\n  margin-bottom: 0.5em;\n  /* unfitted */\n  background-color: var(--sklearn-color-unfitted-level-0);\n}\n\n#sk-container-id-1 div.sk-estimator.fitted {\n  /* fitted */\n  background-color: var(--sklearn-color-fitted-level-0);\n}\n\n/* on hover */\n#sk-container-id-1 div.sk-estimator:hover {\n  /* unfitted */\n  background-color: var(--sklearn-color-unfitted-level-2);\n}\n\n#sk-container-id-1 div.sk-estimator.fitted:hover {\n  /* fitted */\n  background-color: var(--sklearn-color-fitted-level-2);\n}\n\n/* Specification for estimator info (e.g. \"i\" and \"?\") */\n\n/* Common style for \"i\" and \"?\" */\n\n.sk-estimator-doc-link,\na:link.sk-estimator-doc-link,\na:visited.sk-estimator-doc-link {\n  float: right;\n  font-size: smaller;\n  line-height: 1em;\n  font-family: monospace;\n  background-color: var(--sklearn-color-background);\n  border-radius: 1em;\n  height: 1em;\n  width: 1em;\n  text-decoration: none !important;\n  margin-left: 1ex;\n  /* unfitted */\n  border: var(--sklearn-color-unfitted-level-1) 1pt solid;\n  color: var(--sklearn-color-unfitted-level-1);\n}\n\n.sk-estimator-doc-link.fitted,\na:link.sk-estimator-doc-link.fitted,\na:visited.sk-estimator-doc-link.fitted {\n  /* fitted */\n  border: var(--sklearn-color-fitted-level-1) 1pt solid;\n  color: var(--sklearn-color-fitted-level-1);\n}\n\n/* On hover */\ndiv.sk-estimator:hover .sk-estimator-doc-link:hover,\n.sk-estimator-doc-link:hover,\ndiv.sk-label-container:hover .sk-estimator-doc-link:hover,\n.sk-estimator-doc-link:hover {\n  /* unfitted */\n  background-color: var(--sklearn-color-unfitted-level-3);\n  color: var(--sklearn-color-background);\n  text-decoration: none;\n}\n\ndiv.sk-estimator.fitted:hover .sk-estimator-doc-link.fitted:hover,\n.sk-estimator-doc-link.fitted:hover,\ndiv.sk-label-container:hover .sk-estimator-doc-link.fitted:hover,\n.sk-estimator-doc-link.fitted:hover {\n  /* fitted */\n  background-color: var(--sklearn-color-fitted-level-3);\n  color: var(--sklearn-color-background);\n  text-decoration: none;\n}\n\n/* Span, style for the box shown on hovering the info icon */\n.sk-estimator-doc-link span {\n  display: none;\n  z-index: 9999;\n  position: relative;\n  font-weight: normal;\n  right: .2ex;\n  padding: .5ex;\n  margin: .5ex;\n  width: min-content;\n  min-width: 20ex;\n  max-width: 50ex;\n  color: var(--sklearn-color-text);\n  box-shadow: 2pt 2pt 4pt #999;\n  /* unfitted */\n  background: var(--sklearn-color-unfitted-level-0);\n  border: .5pt solid var(--sklearn-color-unfitted-level-3);\n}\n\n.sk-estimator-doc-link.fitted span {\n  /* fitted */\n  background: var(--sklearn-color-fitted-level-0);\n  border: var(--sklearn-color-fitted-level-3);\n}\n\n.sk-estimator-doc-link:hover span {\n  display: block;\n}\n\n/* \"?\"-specific style due to the `<a>` HTML tag */\n\n#sk-container-id-1 a.estimator_doc_link {\n  float: right;\n  font-size: 1rem;\n  line-height: 1em;\n  font-family: monospace;\n  background-color: var(--sklearn-color-background);\n  border-radius: 1rem;\n  height: 1rem;\n  width: 1rem;\n  text-decoration: none;\n  /* unfitted */\n  color: var(--sklearn-color-unfitted-level-1);\n  border: var(--sklearn-color-unfitted-level-1) 1pt solid;\n}\n\n#sk-container-id-1 a.estimator_doc_link.fitted {\n  /* fitted */\n  border: var(--sklearn-color-fitted-level-1) 1pt solid;\n  color: var(--sklearn-color-fitted-level-1);\n}\n\n/* On hover */\n#sk-container-id-1 a.estimator_doc_link:hover {\n  /* unfitted */\n  background-color: var(--sklearn-color-unfitted-level-3);\n  color: var(--sklearn-color-background);\n  text-decoration: none;\n}\n\n#sk-container-id-1 a.estimator_doc_link.fitted:hover {\n  /* fitted */\n  background-color: var(--sklearn-color-fitted-level-3);\n}\n</style><div id=\"sk-container-id-1\" class=\"sk-top-container\"><div class=\"sk-text-repr-fallback\"><pre>LogisticRegression()</pre><b>In a Jupyter environment, please rerun this cell to show the HTML representation or trust the notebook. <br />On GitHub, the HTML representation is unable to render, please try loading this page with nbviewer.org.</b></div><div class=\"sk-container\" hidden><div class=\"sk-item\"><div class=\"sk-estimator fitted sk-toggleable\"><input class=\"sk-toggleable__control sk-hidden--visually\" id=\"sk-estimator-id-1\" type=\"checkbox\" checked><label for=\"sk-estimator-id-1\" class=\"sk-toggleable__label fitted sk-toggleable__label-arrow fitted\">&nbsp;&nbsp;LogisticRegression<a class=\"sk-estimator-doc-link fitted\" rel=\"noreferrer\" target=\"_blank\" href=\"https://scikit-learn.org/1.5/modules/generated/sklearn.linear_model.LogisticRegression.html\">?<span>Documentation for LogisticRegression</span></a><span class=\"sk-estimator-doc-link fitted\">i<span>Fitted</span></span></label><div class=\"sk-toggleable__content fitted\"><pre>LogisticRegression()</pre></div> </div></div></div></div>"
     },
     "execution_count": 6,
     "metadata": {},
     "output_type": "execute_result"
    }
   ],
   "source": [
    "# 데이터 학습\n",
    "from sklearn.linear_model import LogisticRegression\n",
    "\n",
    "# penaly : 제약식 종류 선택(l1, l2, elasticnet)\n",
    "clf_logi_l2 = LogisticRegression(penalty='l2')\n",
    "clf_logi_l2.fit(X_tn_std, y_tn)"
   ],
   "metadata": {
    "collapsed": false,
    "ExecuteTime": {
     "end_time": "2024-08-26T13:34:00.686866Z",
     "start_time": "2024-08-26T13:34:00.242251Z"
    }
   },
   "id": "e0f7346e0554fbae",
   "execution_count": 6
  },
  {
   "cell_type": "code",
   "outputs": [
    {
     "name": "stdout",
     "output_type": "stream",
     "text": [
      "[[-0.31167303 -0.58082201 -0.32131835 -0.38161278 -0.11923966  0.43130513\n",
      "  -0.70867977 -0.85378868 -0.46682033  0.11842553 -1.384584    0.08915178\n",
      "  -0.95504656 -0.93809826  0.18173417  0.99841869  0.1098606  -0.34148205\n",
      "   0.20112256  0.80467192 -0.91482867 -0.91731629 -0.81023153 -0.85401188\n",
      "  -0.45736929  0.11351219 -0.8359122  -0.98702282 -0.59104801 -0.62212143]]\n",
      "[0.02651424]\n"
     ]
    }
   ],
   "source": [
    "# 로지스틱 회귀 분석 추정 계수\n",
    "\n",
    "# 추정 계수\n",
    "print(clf_logi_l2.coef_)\n",
    "\n",
    "# 상수항\n",
    "print(clf_logi_l2.intercept_)"
   ],
   "metadata": {
    "collapsed": false,
    "ExecuteTime": {
     "end_time": "2024-08-26T13:34:00.694555Z",
     "start_time": "2024-08-26T13:34:00.687870Z"
    }
   },
   "id": "764a452f5a72681e",
   "execution_count": 7
  },
  {
   "cell_type": "code",
   "outputs": [
    {
     "name": "stdout",
     "output_type": "stream",
     "text": [
      "[0 1 1 1 1 1 1 1 1 1 1 1 1 0 1 0 1 0 0 0 0 0 1 1 0 1 1 0 1 0 1 0 1 0 1 0 1\n",
      " 0 1 0 0 1 0 1 1 0 1 1 1 0 0 0 0 1 1 1 1 1 1 0 0 0 1 1 0 1 0 0 0 1 1 0 1 0\n",
      " 0 1 1 1 1 1 0 0 0 1 0 1 1 1 0 0 1 0 0 0 1 1 0 1 1 1 1 1 1 1 0 1 0 1 1 1 1\n",
      " 0 0 1 1 1 1 1 1 1 1 1 1 1 0 1 1 1 1 1 0 1 1 1 1 1 0 0 0 1 1 1 0]\n"
     ]
    }
   ],
   "source": [
    "# 데이터 예측\n",
    "pred_logistic = clf_logi_l2.predict(X_te_std)\n",
    "print(pred_logistic)"
   ],
   "metadata": {
    "collapsed": false,
    "ExecuteTime": {
     "end_time": "2024-08-26T13:34:00.704303Z",
     "start_time": "2024-08-26T13:34:00.696569Z"
    }
   },
   "id": "12bef2cec424ada9",
   "execution_count": 8
  },
  {
   "cell_type": "code",
   "outputs": [
    {
     "name": "stdout",
     "output_type": "stream",
     "text": [
      "[[9.98648594e-01 1.35140551e-03]\n",
      " [3.97049107e-02 9.60295089e-01]\n",
      " [1.30747928e-03 9.98692521e-01]\n",
      " [1.24088419e-02 9.87591158e-01]\n",
      " [2.44097465e-04 9.99755903e-01]\n",
      " [4.46535523e-03 9.95534645e-01]\n",
      " [1.12358878e-04 9.99887641e-01]\n",
      " [1.81602522e-03 9.98183975e-01]\n",
      " [9.80602662e-05 9.99901940e-01]\n",
      " [1.75676970e-06 9.99998243e-01]\n",
      " [1.76291974e-01 8.23708026e-01]\n",
      " [8.23691695e-02 9.17630831e-01]\n",
      " [9.57480760e-06 9.99990425e-01]\n",
      " [5.39393822e-01 4.60606178e-01]\n",
      " [3.96253590e-01 6.03746410e-01]\n",
      " [9.95790578e-01 4.20942173e-03]\n",
      " [2.68696668e-03 9.97313033e-01]\n",
      " [9.99997155e-01 2.84455892e-06]\n",
      " [9.99927992e-01 7.20077508e-05]\n",
      " [9.99999997e-01 2.75677120e-09]\n",
      " [9.98740987e-01 1.25901343e-03]\n",
      " [9.81471041e-01 1.85289592e-02]\n",
      " [1.78265263e-02 9.82173474e-01]\n",
      " [9.60636544e-04 9.99039363e-01]\n",
      " [9.99479648e-01 5.20352184e-04]\n",
      " [6.70769756e-04 9.99329230e-01]\n",
      " [5.50588184e-05 9.99944941e-01]\n",
      " [9.69723158e-01 3.02768419e-02]\n",
      " [1.62066591e-03 9.98379334e-01]\n",
      " [9.99997820e-01 2.18016492e-06]\n",
      " [6.06224537e-05 9.99939378e-01]\n",
      " [9.99955936e-01 4.40635663e-05]\n",
      " [1.08527898e-01 8.91472102e-01]\n",
      " [9.97246128e-01 2.75387213e-03]\n",
      " [4.49984608e-06 9.99995500e-01]\n",
      " [9.97442697e-01 2.55730264e-03]\n",
      " [1.99028659e-02 9.80097134e-01]\n",
      " [9.99574782e-01 4.25217744e-04]\n",
      " [8.47134658e-03 9.91528653e-01]\n",
      " [9.99498863e-01 5.01137119e-04]\n",
      " [9.42929078e-01 5.70709216e-02]\n",
      " [8.24176287e-05 9.99917582e-01]\n",
      " [9.33302483e-01 6.66975166e-02]\n",
      " [8.07307410e-05 9.99919269e-01]\n",
      " [6.07478480e-02 9.39252152e-01]\n",
      " [9.99999999e-01 1.15101127e-09]\n",
      " [1.00721740e-06 9.99998993e-01]\n",
      " [1.49004201e-02 9.85099580e-01]\n",
      " [6.33999224e-04 9.99366001e-01]\n",
      " [9.99928144e-01 7.18555550e-05]\n",
      " [9.99989547e-01 1.04533619e-05]\n",
      " [8.02494021e-01 1.97505979e-01]\n",
      " [9.99965621e-01 3.43793764e-05]\n",
      " [1.36426473e-03 9.98635735e-01]\n",
      " [1.93248108e-03 9.98067519e-01]\n",
      " [5.81304119e-04 9.99418696e-01]\n",
      " [1.03772348e-03 9.98962277e-01]\n",
      " [8.06447544e-03 9.91935525e-01]\n",
      " [1.00217149e-02 9.89978285e-01]\n",
      " [9.99999999e-01 1.43867004e-09]\n",
      " [9.97646240e-01 2.35376042e-03]\n",
      " [9.99260819e-01 7.39181176e-04]\n",
      " [3.09328478e-05 9.99969067e-01]\n",
      " [4.38378583e-03 9.95616214e-01]\n",
      " [9.99897490e-01 1.02509965e-04]\n",
      " [1.52870008e-01 8.47129992e-01]\n",
      " [1.00000000e+00 2.42185231e-13]\n",
      " [9.99998773e-01 1.22658366e-06]\n",
      " [9.99999052e-01 9.48376399e-07]\n",
      " [7.97692185e-04 9.99202308e-01]\n",
      " [3.86093543e-01 6.13906457e-01]\n",
      " [9.99993554e-01 6.44637971e-06]\n",
      " [2.96448289e-03 9.97035517e-01]\n",
      " [8.11203034e-01 1.88796966e-01]\n",
      " [9.99997020e-01 2.98003073e-06]\n",
      " [1.75452580e-02 9.82454742e-01]\n",
      " [4.93056016e-05 9.99950694e-01]\n",
      " [3.48552902e-02 9.65144710e-01]\n",
      " [4.24882260e-04 9.99575118e-01]\n",
      " [2.11198561e-05 9.99978880e-01]\n",
      " [9.82366694e-01 1.76333064e-02]\n",
      " [1.00000000e+00 3.53426712e-10]\n",
      " [9.99988967e-01 1.10330369e-05]\n",
      " [5.95116104e-05 9.99940488e-01]\n",
      " [9.62748458e-01 3.72515419e-02]\n",
      " [1.68728892e-03 9.98312711e-01]\n",
      " [6.12683444e-05 9.99938732e-01]\n",
      " [6.25837317e-06 9.99993742e-01]\n",
      " [9.99903650e-01 9.63500010e-05]\n",
      " [1.00000000e+00 8.12241815e-11]\n",
      " [3.44171695e-05 9.99965583e-01]\n",
      " [5.55955548e-01 4.44044452e-01]\n",
      " [6.92031388e-01 3.07968612e-01]\n",
      " [9.99996891e-01 3.10865574e-06]\n",
      " [2.03889573e-03 9.97961104e-01]\n",
      " [2.38035164e-03 9.97619648e-01]\n",
      " [9.99999992e-01 8.01436801e-09]\n",
      " [1.02997708e-02 9.89700229e-01]\n",
      " [9.22984874e-03 9.90770151e-01]\n",
      " [9.74289613e-04 9.99025710e-01]\n",
      " [5.35294431e-09 9.99999995e-01]\n",
      " [3.06331348e-03 9.96936687e-01]\n",
      " [6.23931803e-03 9.93760682e-01]\n",
      " [1.49698945e-01 8.50301055e-01]\n",
      " [9.99994889e-01 5.11126358e-06]\n",
      " [5.94706140e-04 9.99405294e-01]\n",
      " [9.99995755e-01 4.24548343e-06]\n",
      " [9.40020661e-02 9.05997934e-01]\n",
      " [3.27898055e-01 6.72101945e-01]\n",
      " [1.75040224e-02 9.82495978e-01]\n",
      " [3.76730346e-02 9.62326965e-01]\n",
      " [9.99976410e-01 2.35897363e-05]\n",
      " [9.99912399e-01 8.76010211e-05]\n",
      " [8.65793855e-02 9.13420614e-01]\n",
      " [8.16278849e-04 9.99183721e-01]\n",
      " [2.43859241e-02 9.75614076e-01]\n",
      " [1.44771456e-01 8.55228544e-01]\n",
      " [1.57493878e-03 9.98425061e-01]\n",
      " [1.79587404e-02 9.82041260e-01]\n",
      " [1.17727743e-03 9.98822723e-01]\n",
      " [1.54947185e-02 9.84505281e-01]\n",
      " [1.43862970e-03 9.98561370e-01]\n",
      " [3.80802685e-01 6.19197315e-01]\n",
      " [2.64371768e-02 9.73562823e-01]\n",
      " [9.99999919e-01 8.08376308e-08]\n",
      " [1.28968685e-01 8.71031315e-01]\n",
      " [4.66995010e-01 5.33004990e-01]\n",
      " [2.57654855e-04 9.99742345e-01]\n",
      " [3.24652916e-05 9.99967535e-01]\n",
      " [4.01097373e-05 9.99959890e-01]\n",
      " [9.99901976e-01 9.80240564e-05]\n",
      " [1.28466806e-04 9.99871533e-01]\n",
      " [2.67288248e-04 9.99732712e-01]\n",
      " [2.12419241e-01 7.87580759e-01]\n",
      " [2.93904215e-02 9.70609579e-01]\n",
      " [2.34451036e-05 9.99976555e-01]\n",
      " [5.10143203e-01 4.89856797e-01]\n",
      " [6.17759313e-01 3.82240687e-01]\n",
      " [1.00000000e+00 1.45671745e-12]\n",
      " [8.34058316e-05 9.99916594e-01]\n",
      " [1.57528121e-03 9.98424719e-01]\n",
      " [1.27479885e-03 9.98725201e-01]\n",
      " [9.99999994e-01 5.80710394e-09]]\n"
     ]
    }
   ],
   "source": [
    "# 클래스 확률로 예측(해당 클래스에 속할 확률)\n",
    "pred_proba = clf_logi_l2.predict_proba(X_te_std)\n",
    "print(pred_proba)"
   ],
   "metadata": {
    "collapsed": false,
    "ExecuteTime": {
     "end_time": "2024-08-26T13:34:58.168799Z",
     "start_time": "2024-08-26T13:34:58.155035Z"
    }
   },
   "id": "34fe7f332d13cb45",
   "execution_count": 9
  },
  {
   "cell_type": "code",
   "outputs": [
    {
     "name": "stdout",
     "output_type": "stream",
     "text": [
      "0.9666666666666667\n"
     ]
    }
   ],
   "source": [
    "# 정밀도 평가\n",
    "from sklearn.metrics import precision_score\n",
    "precision = precision_score(y_te, pred_logistic)\n",
    "print(precision)"
   ],
   "metadata": {
    "collapsed": false,
    "ExecuteTime": {
     "end_time": "2024-08-26T13:41:35.768310Z",
     "start_time": "2024-08-26T13:41:35.754571Z"
    }
   },
   "id": "c2758e60b5179b76",
   "execution_count": 10
  },
  {
   "cell_type": "code",
   "outputs": [
    {
     "name": "stdout",
     "output_type": "stream",
     "text": [
      "[[50  3]\n",
      " [ 3 87]]\n"
     ]
    }
   ],
   "source": [
    "# confusion matrix 확인\n",
    "from sklearn.metrics import confusion_matrix\n",
    "conf_matrix = confusion_matrix(y_te, pred_logistic)\n",
    "print(conf_matrix)"
   ],
   "metadata": {
    "collapsed": false,
    "ExecuteTime": {
     "end_time": "2024-08-26T13:42:38.503231Z",
     "start_time": "2024-08-26T13:42:38.493557Z"
    }
   },
   "id": "1b3fae5957bf6c64",
   "execution_count": 11
  },
  {
   "cell_type": "code",
   "outputs": [
    {
     "name": "stdout",
     "output_type": "stream",
     "text": [
      "              precision    recall  f1-score   support\n",
      "\n",
      "           0       0.94      0.94      0.94        53\n",
      "           1       0.97      0.97      0.97        90\n",
      "\n",
      "    accuracy                           0.96       143\n",
      "   macro avg       0.96      0.96      0.96       143\n",
      "weighted avg       0.96      0.96      0.96       143\n"
     ]
    }
   ],
   "source": [
    "# 분류 리포트 확인\n",
    "from sklearn.metrics import classification_report\n",
    "class_report = classification_report(y_te, pred_logistic)\n",
    "print(class_report)"
   ],
   "metadata": {
    "collapsed": false,
    "ExecuteTime": {
     "end_time": "2024-08-26T13:43:28.566690Z",
     "start_time": "2024-08-26T13:43:28.547841Z"
    }
   },
   "id": "30dc1a8e7d2db19b",
   "execution_count": 12
  }
 ],
 "metadata": {
  "kernelspec": {
   "display_name": "Python 3",
   "language": "python",
   "name": "python3"
  },
  "language_info": {
   "codemirror_mode": {
    "name": "ipython",
    "version": 2
   },
   "file_extension": ".py",
   "mimetype": "text/x-python",
   "name": "python",
   "nbconvert_exporter": "python",
   "pygments_lexer": "ipython2",
   "version": "2.7.6"
  }
 },
 "nbformat": 4,
 "nbformat_minor": 5
}
