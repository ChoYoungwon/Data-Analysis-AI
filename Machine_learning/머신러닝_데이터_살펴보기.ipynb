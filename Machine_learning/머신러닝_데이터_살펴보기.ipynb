{
 "cells": [
  {
   "cell_type": "code",
   "outputs": [],
   "source": [
    "import numpy as np\n",
    "import pandas as pd\n",
    "import seaborn as sns\n",
    "import matplotlib.pyplot as plt\n",
    "from sklearn import datasets"
   ],
   "metadata": {
    "collapsed": false,
    "ExecuteTime": {
     "end_time": "2024-08-24T06:42:09.736556Z",
     "start_time": "2024-08-24T06:42:09.729104Z"
    }
   },
   "id": "fa289a5b34d7738f",
   "execution_count": 53
  },
  {
   "cell_type": "code",
   "outputs": [
    {
     "name": "stdout",
     "output_type": "stream",
     "text": [
      "506\n",
      "        0     1     2    3      4      5     6       7    8      9     10  \\\n",
      "0  0.00632  18.0  2.31  0.0  0.538  6.575  65.2  4.0900  1.0  296.0  15.3   \n",
      "1  0.02731   0.0  7.07  0.0  0.469  6.421  78.9  4.9671  2.0  242.0  17.8   \n",
      "2  0.02729   0.0  7.07  0.0  0.469  7.185  61.1  4.9671  2.0  242.0  17.8   \n",
      "3  0.03237   0.0  2.18  0.0  0.458  6.998  45.8  6.0622  3.0  222.0  18.7   \n",
      "4  0.06905   0.0  2.18  0.0  0.458  7.147  54.2  6.0622  3.0  222.0  18.7   \n",
      "\n",
      "       11    12    0   \n",
      "0  396.90  4.98  24.0  \n",
      "1  396.90  9.14  21.6  \n",
      "2  392.83  4.03  34.7  \n",
      "3  394.63  2.94  33.4  \n",
      "4  396.90  5.33  36.2  \n"
     ]
    }
   ],
   "source": [
    "# 보스턴 집값 데이터 (인종 차별적인 요소로 scikit-learn에서 제거, url 로드)\n",
    "data_url = \"http://lib.stat.cmu.edu/datasets/boston\"\n",
    "\n",
    "# 데이터 로드 (원시 문자열을 사용하여 '\\s+'가 정규 표현식으로 인식되도록 함)\n",
    "raw_df = pd.read_csv(data_url, sep=r\"\\s+\", skiprows=22, header=None)\n",
    "\n",
    "# 데이터와 타겟을 분리\n",
    "data = np.hstack([raw_df.values[::2, :], raw_df.values[1::2, :2]])\n",
    "target = raw_df.values[1::2, 2]\n",
    "\n",
    "X_boston = pd.DataFrame(data)\n",
    "y_boston = pd.DataFrame(target) \n",
    "df_boston = pd.concat([X_boston, y_boston], axis=1)\n",
    "\n",
    "print(len(df_boston))\n",
    "print(df_boston.head())"
   ],
   "metadata": {
    "collapsed": false,
    "ExecuteTime": {
     "end_time": "2024-08-24T06:42:11.353164Z",
     "start_time": "2024-08-24T06:42:09.839942Z"
    }
   },
   "id": "45cc50ea7e064e0",
   "execution_count": 54
  },
  {
   "cell_type": "code",
   "outputs": [
    {
     "data": {
      "text/plain": "      CRIM    ZN  INDUS  CHAS    NOX     RM   AGE     DIS  RAD    TAX  \\\n0  0.00632  18.0   2.31   0.0  0.538  6.575  65.2  4.0900  1.0  296.0   \n1  0.02731   0.0   7.07   0.0  0.469  6.421  78.9  4.9671  2.0  242.0   \n2  0.02729   0.0   7.07   0.0  0.469  7.185  61.1  4.9671  2.0  242.0   \n3  0.03237   0.0   2.18   0.0  0.458  6.998  45.8  6.0622  3.0  222.0   \n4  0.06905   0.0   2.18   0.0  0.458  7.147  54.2  6.0622  3.0  222.0   \n\n   PTRATIO       B  LSTAT  target  \n0     15.3  396.90   4.98    24.0  \n1     17.8  396.90   9.14    21.6  \n2     17.8  392.83   4.03    34.7  \n3     18.7  394.63   2.94    33.4  \n4     18.7  396.90   5.33    36.2  ",
      "text/html": "<div>\n<style scoped>\n    .dataframe tbody tr th:only-of-type {\n        vertical-align: middle;\n    }\n\n    .dataframe tbody tr th {\n        vertical-align: top;\n    }\n\n    .dataframe thead th {\n        text-align: right;\n    }\n</style>\n<table border=\"1\" class=\"dataframe\">\n  <thead>\n    <tr style=\"text-align: right;\">\n      <th></th>\n      <th>CRIM</th>\n      <th>ZN</th>\n      <th>INDUS</th>\n      <th>CHAS</th>\n      <th>NOX</th>\n      <th>RM</th>\n      <th>AGE</th>\n      <th>DIS</th>\n      <th>RAD</th>\n      <th>TAX</th>\n      <th>PTRATIO</th>\n      <th>B</th>\n      <th>LSTAT</th>\n      <th>target</th>\n    </tr>\n  </thead>\n  <tbody>\n    <tr>\n      <th>0</th>\n      <td>0.00632</td>\n      <td>18.0</td>\n      <td>2.31</td>\n      <td>0.0</td>\n      <td>0.538</td>\n      <td>6.575</td>\n      <td>65.2</td>\n      <td>4.0900</td>\n      <td>1.0</td>\n      <td>296.0</td>\n      <td>15.3</td>\n      <td>396.90</td>\n      <td>4.98</td>\n      <td>24.0</td>\n    </tr>\n    <tr>\n      <th>1</th>\n      <td>0.02731</td>\n      <td>0.0</td>\n      <td>7.07</td>\n      <td>0.0</td>\n      <td>0.469</td>\n      <td>6.421</td>\n      <td>78.9</td>\n      <td>4.9671</td>\n      <td>2.0</td>\n      <td>242.0</td>\n      <td>17.8</td>\n      <td>396.90</td>\n      <td>9.14</td>\n      <td>21.6</td>\n    </tr>\n    <tr>\n      <th>2</th>\n      <td>0.02729</td>\n      <td>0.0</td>\n      <td>7.07</td>\n      <td>0.0</td>\n      <td>0.469</td>\n      <td>7.185</td>\n      <td>61.1</td>\n      <td>4.9671</td>\n      <td>2.0</td>\n      <td>242.0</td>\n      <td>17.8</td>\n      <td>392.83</td>\n      <td>4.03</td>\n      <td>34.7</td>\n    </tr>\n    <tr>\n      <th>3</th>\n      <td>0.03237</td>\n      <td>0.0</td>\n      <td>2.18</td>\n      <td>0.0</td>\n      <td>0.458</td>\n      <td>6.998</td>\n      <td>45.8</td>\n      <td>6.0622</td>\n      <td>3.0</td>\n      <td>222.0</td>\n      <td>18.7</td>\n      <td>394.63</td>\n      <td>2.94</td>\n      <td>33.4</td>\n    </tr>\n    <tr>\n      <th>4</th>\n      <td>0.06905</td>\n      <td>0.0</td>\n      <td>2.18</td>\n      <td>0.0</td>\n      <td>0.458</td>\n      <td>7.147</td>\n      <td>54.2</td>\n      <td>6.0622</td>\n      <td>3.0</td>\n      <td>222.0</td>\n      <td>18.7</td>\n      <td>396.90</td>\n      <td>5.33</td>\n      <td>36.2</td>\n    </tr>\n  </tbody>\n</table>\n</div>"
     },
     "execution_count": 55,
     "metadata": {},
     "output_type": "execute_result"
    }
   ],
   "source": [
    "feature_boston = ['CRIM', 'ZN', 'INDUS', 'CHAS', 'NOX', 'RM', 'AGE', 'DIS', 'RAD', 'TAX', 'PTRATIO', 'B', 'LSTAT']\n",
    "\n",
    "col_boston=np.append(feature_boston, ['target'])\n",
    "df_boston.columns = col_boston\n",
    "df_boston.head()"
   ],
   "metadata": {
    "collapsed": false,
    "ExecuteTime": {
     "end_time": "2024-08-24T06:42:11.377326Z",
     "start_time": "2024-08-24T06:42:11.356696Z"
    }
   },
   "id": "81fc35ef12adfad0",
   "execution_count": 55
  },
  {
   "cell_type": "code",
   "outputs": [
    {
     "name": "stdout",
     "output_type": "stream",
     "text": [
      "['sepal length (cm)', 'sepal width (cm)', 'petal length (cm)', 'petal width (cm)']\n"
     ]
    }
   ],
   "source": [
    "# 아이리스 꽃 분류하기\n",
    "raw_iris = datasets.load_iris()\n",
    "X_iris = pd.DataFrame(raw_iris.data)\n",
    "y_iris = pd.DataFrame(raw_iris.target)\n",
    "df_iris = pd.concat([X_iris, y_iris], axis=1)\n",
    "\n",
    "feature_iris = raw_iris.feature_names\n",
    "print(feature_iris)"
   ],
   "metadata": {
    "collapsed": false,
    "ExecuteTime": {
     "end_time": "2024-08-24T06:42:11.396143Z",
     "start_time": "2024-08-24T06:42:11.380532Z"
    }
   },
   "id": "695f12cc37d5fb95",
   "execution_count": 56
  },
  {
   "cell_type": "code",
   "outputs": [
    {
     "data": {
      "text/plain": "   sepal length (cm)  sepal width (cm)  petal length (cm)  petal width (cm)  \\\n0                5.1               3.5                1.4               0.2   \n1                4.9               3.0                1.4               0.2   \n2                4.7               3.2                1.3               0.2   \n3                4.6               3.1                1.5               0.2   \n4                5.0               3.6                1.4               0.2   \n\n   target  \n0       0  \n1       0  \n2       0  \n3       0  \n4       0  ",
      "text/html": "<div>\n<style scoped>\n    .dataframe tbody tr th:only-of-type {\n        vertical-align: middle;\n    }\n\n    .dataframe tbody tr th {\n        vertical-align: top;\n    }\n\n    .dataframe thead th {\n        text-align: right;\n    }\n</style>\n<table border=\"1\" class=\"dataframe\">\n  <thead>\n    <tr style=\"text-align: right;\">\n      <th></th>\n      <th>sepal length (cm)</th>\n      <th>sepal width (cm)</th>\n      <th>petal length (cm)</th>\n      <th>petal width (cm)</th>\n      <th>target</th>\n    </tr>\n  </thead>\n  <tbody>\n    <tr>\n      <th>0</th>\n      <td>5.1</td>\n      <td>3.5</td>\n      <td>1.4</td>\n      <td>0.2</td>\n      <td>0</td>\n    </tr>\n    <tr>\n      <th>1</th>\n      <td>4.9</td>\n      <td>3.0</td>\n      <td>1.4</td>\n      <td>0.2</td>\n      <td>0</td>\n    </tr>\n    <tr>\n      <th>2</th>\n      <td>4.7</td>\n      <td>3.2</td>\n      <td>1.3</td>\n      <td>0.2</td>\n      <td>0</td>\n    </tr>\n    <tr>\n      <th>3</th>\n      <td>4.6</td>\n      <td>3.1</td>\n      <td>1.5</td>\n      <td>0.2</td>\n      <td>0</td>\n    </tr>\n    <tr>\n      <th>4</th>\n      <td>5.0</td>\n      <td>3.6</td>\n      <td>1.4</td>\n      <td>0.2</td>\n      <td>0</td>\n    </tr>\n  </tbody>\n</table>\n</div>"
     },
     "execution_count": 57,
     "metadata": {},
     "output_type": "execute_result"
    }
   ],
   "source": [
    "col_iris=np.append(feature_iris, ['target'])\n",
    "df_iris.columns = col_iris\n",
    "df_iris.head()"
   ],
   "metadata": {
    "collapsed": false,
    "ExecuteTime": {
     "end_time": "2024-08-24T06:42:11.414953Z",
     "start_time": "2024-08-24T06:42:11.399110Z"
    }
   },
   "id": "17bb01a4d608a52f",
   "execution_count": 57
  },
  {
   "cell_type": "code",
   "outputs": [
    {
     "name": "stdout",
     "output_type": "stream",
     "text": [
      "['alcohol', 'malic_acid', 'ash', 'alcalinity_of_ash', 'magnesium', 'total_phenols', 'flavanoids', 'nonflavanoid_phenols', 'proanthocyanins', 'color_intensity', 'hue', 'od280/od315_of_diluted_wines', 'proline']\n"
     ]
    }
   ],
   "source": [
    "# 와인 구분하기 \n",
    "raw_wine = datasets.load_wine()\n",
    "X_wine = pd.DataFrame(raw_wine.data)\n",
    "y_wine = pd.DataFrame(raw_wine.target)\n",
    "df_wine = pd.concat([X_wine, y_wine], axis=1)\n",
    "\n",
    "feature_wine = raw_wine.feature_names\n",
    "print(feature_wine)"
   ],
   "metadata": {
    "collapsed": false,
    "ExecuteTime": {
     "end_time": "2024-08-24T06:42:11.431414Z",
     "start_time": "2024-08-24T06:42:11.417609Z"
    }
   },
   "id": "87a3b677d104b72b",
   "execution_count": 58
  },
  {
   "cell_type": "code",
   "outputs": [
    {
     "data": {
      "text/plain": "   alcohol  malic_acid   ash  alcalinity_of_ash  magnesium  total_phenols  \\\n0    14.23        1.71  2.43               15.6      127.0           2.80   \n1    13.20        1.78  2.14               11.2      100.0           2.65   \n2    13.16        2.36  2.67               18.6      101.0           2.80   \n3    14.37        1.95  2.50               16.8      113.0           3.85   \n4    13.24        2.59  2.87               21.0      118.0           2.80   \n\n   flavanoids  nonflavanoid_phenols  proanthocyanins  color_intensity   hue  \\\n0        3.06                  0.28             2.29             5.64  1.04   \n1        2.76                  0.26             1.28             4.38  1.05   \n2        3.24                  0.30             2.81             5.68  1.03   \n3        3.49                  0.24             2.18             7.80  0.86   \n4        2.69                  0.39             1.82             4.32  1.04   \n\n   od280/od315_of_diluted_wines  proline  target  \n0                          3.92   1065.0       0  \n1                          3.40   1050.0       0  \n2                          3.17   1185.0       0  \n3                          3.45   1480.0       0  \n4                          2.93    735.0       0  ",
      "text/html": "<div>\n<style scoped>\n    .dataframe tbody tr th:only-of-type {\n        vertical-align: middle;\n    }\n\n    .dataframe tbody tr th {\n        vertical-align: top;\n    }\n\n    .dataframe thead th {\n        text-align: right;\n    }\n</style>\n<table border=\"1\" class=\"dataframe\">\n  <thead>\n    <tr style=\"text-align: right;\">\n      <th></th>\n      <th>alcohol</th>\n      <th>malic_acid</th>\n      <th>ash</th>\n      <th>alcalinity_of_ash</th>\n      <th>magnesium</th>\n      <th>total_phenols</th>\n      <th>flavanoids</th>\n      <th>nonflavanoid_phenols</th>\n      <th>proanthocyanins</th>\n      <th>color_intensity</th>\n      <th>hue</th>\n      <th>od280/od315_of_diluted_wines</th>\n      <th>proline</th>\n      <th>target</th>\n    </tr>\n  </thead>\n  <tbody>\n    <tr>\n      <th>0</th>\n      <td>14.23</td>\n      <td>1.71</td>\n      <td>2.43</td>\n      <td>15.6</td>\n      <td>127.0</td>\n      <td>2.80</td>\n      <td>3.06</td>\n      <td>0.28</td>\n      <td>2.29</td>\n      <td>5.64</td>\n      <td>1.04</td>\n      <td>3.92</td>\n      <td>1065.0</td>\n      <td>0</td>\n    </tr>\n    <tr>\n      <th>1</th>\n      <td>13.20</td>\n      <td>1.78</td>\n      <td>2.14</td>\n      <td>11.2</td>\n      <td>100.0</td>\n      <td>2.65</td>\n      <td>2.76</td>\n      <td>0.26</td>\n      <td>1.28</td>\n      <td>4.38</td>\n      <td>1.05</td>\n      <td>3.40</td>\n      <td>1050.0</td>\n      <td>0</td>\n    </tr>\n    <tr>\n      <th>2</th>\n      <td>13.16</td>\n      <td>2.36</td>\n      <td>2.67</td>\n      <td>18.6</td>\n      <td>101.0</td>\n      <td>2.80</td>\n      <td>3.24</td>\n      <td>0.30</td>\n      <td>2.81</td>\n      <td>5.68</td>\n      <td>1.03</td>\n      <td>3.17</td>\n      <td>1185.0</td>\n      <td>0</td>\n    </tr>\n    <tr>\n      <th>3</th>\n      <td>14.37</td>\n      <td>1.95</td>\n      <td>2.50</td>\n      <td>16.8</td>\n      <td>113.0</td>\n      <td>3.85</td>\n      <td>3.49</td>\n      <td>0.24</td>\n      <td>2.18</td>\n      <td>7.80</td>\n      <td>0.86</td>\n      <td>3.45</td>\n      <td>1480.0</td>\n      <td>0</td>\n    </tr>\n    <tr>\n      <th>4</th>\n      <td>13.24</td>\n      <td>2.59</td>\n      <td>2.87</td>\n      <td>21.0</td>\n      <td>118.0</td>\n      <td>2.80</td>\n      <td>2.69</td>\n      <td>0.39</td>\n      <td>1.82</td>\n      <td>4.32</td>\n      <td>1.04</td>\n      <td>2.93</td>\n      <td>735.0</td>\n      <td>0</td>\n    </tr>\n  </tbody>\n</table>\n</div>"
     },
     "execution_count": 59,
     "metadata": {},
     "output_type": "execute_result"
    }
   ],
   "source": [
    "col_wine=np.append(feature_wine, ['target'])\n",
    "df_wine.columns = col_wine\n",
    "df_wine.head()"
   ],
   "metadata": {
    "collapsed": false,
    "ExecuteTime": {
     "end_time": "2024-08-24T06:42:11.455565Z",
     "start_time": "2024-08-24T06:42:11.433025Z"
    }
   },
   "id": "9b48014c109e86ff",
   "execution_count": 59
  },
  {
   "cell_type": "code",
   "outputs": [
    {
     "name": "stdout",
     "output_type": "stream",
     "text": [
      "['age', 'sex', 'bmi', 'bp', 's1', 's2', 's3', 's4', 's5', 's6']\n"
     ]
    }
   ],
   "source": [
    "# 당뇨병 예측하기\n",
    "raw_diab = datasets.load_diabetes()\n",
    "X_diab = pd.DataFrame(raw_diab.data)\n",
    "y_diab = pd.DataFrame(raw_diab.target)\n",
    "df_diab = pd.concat([X_diab, y_diab], axis=1)\n",
    "\n",
    "feature_diab = raw_diab.feature_names\n",
    "print(feature_diab)"
   ],
   "metadata": {
    "collapsed": false,
    "ExecuteTime": {
     "end_time": "2024-08-24T06:42:11.474822Z",
     "start_time": "2024-08-24T06:42:11.456574Z"
    }
   },
   "id": "8491469379d438cf",
   "execution_count": 60
  },
  {
   "cell_type": "code",
   "outputs": [
    {
     "data": {
      "text/plain": "        age       sex       bmi        bp        s1        s2        s3  \\\n0  0.038076  0.050680  0.061696  0.021872 -0.044223 -0.034821 -0.043401   \n1 -0.001882 -0.044642 -0.051474 -0.026328 -0.008449 -0.019163  0.074412   \n2  0.085299  0.050680  0.044451 -0.005670 -0.045599 -0.034194 -0.032356   \n3 -0.089063 -0.044642 -0.011595 -0.036656  0.012191  0.024991 -0.036038   \n4  0.005383 -0.044642 -0.036385  0.021872  0.003935  0.015596  0.008142   \n\n         s4        s5        s6  target  \n0 -0.002592  0.019907 -0.017646   151.0  \n1 -0.039493 -0.068332 -0.092204    75.0  \n2 -0.002592  0.002861 -0.025930   141.0  \n3  0.034309  0.022688 -0.009362   206.0  \n4 -0.002592 -0.031988 -0.046641   135.0  ",
      "text/html": "<div>\n<style scoped>\n    .dataframe tbody tr th:only-of-type {\n        vertical-align: middle;\n    }\n\n    .dataframe tbody tr th {\n        vertical-align: top;\n    }\n\n    .dataframe thead th {\n        text-align: right;\n    }\n</style>\n<table border=\"1\" class=\"dataframe\">\n  <thead>\n    <tr style=\"text-align: right;\">\n      <th></th>\n      <th>age</th>\n      <th>sex</th>\n      <th>bmi</th>\n      <th>bp</th>\n      <th>s1</th>\n      <th>s2</th>\n      <th>s3</th>\n      <th>s4</th>\n      <th>s5</th>\n      <th>s6</th>\n      <th>target</th>\n    </tr>\n  </thead>\n  <tbody>\n    <tr>\n      <th>0</th>\n      <td>0.038076</td>\n      <td>0.050680</td>\n      <td>0.061696</td>\n      <td>0.021872</td>\n      <td>-0.044223</td>\n      <td>-0.034821</td>\n      <td>-0.043401</td>\n      <td>-0.002592</td>\n      <td>0.019907</td>\n      <td>-0.017646</td>\n      <td>151.0</td>\n    </tr>\n    <tr>\n      <th>1</th>\n      <td>-0.001882</td>\n      <td>-0.044642</td>\n      <td>-0.051474</td>\n      <td>-0.026328</td>\n      <td>-0.008449</td>\n      <td>-0.019163</td>\n      <td>0.074412</td>\n      <td>-0.039493</td>\n      <td>-0.068332</td>\n      <td>-0.092204</td>\n      <td>75.0</td>\n    </tr>\n    <tr>\n      <th>2</th>\n      <td>0.085299</td>\n      <td>0.050680</td>\n      <td>0.044451</td>\n      <td>-0.005670</td>\n      <td>-0.045599</td>\n      <td>-0.034194</td>\n      <td>-0.032356</td>\n      <td>-0.002592</td>\n      <td>0.002861</td>\n      <td>-0.025930</td>\n      <td>141.0</td>\n    </tr>\n    <tr>\n      <th>3</th>\n      <td>-0.089063</td>\n      <td>-0.044642</td>\n      <td>-0.011595</td>\n      <td>-0.036656</td>\n      <td>0.012191</td>\n      <td>0.024991</td>\n      <td>-0.036038</td>\n      <td>0.034309</td>\n      <td>0.022688</td>\n      <td>-0.009362</td>\n      <td>206.0</td>\n    </tr>\n    <tr>\n      <th>4</th>\n      <td>0.005383</td>\n      <td>-0.044642</td>\n      <td>-0.036385</td>\n      <td>0.021872</td>\n      <td>0.003935</td>\n      <td>0.015596</td>\n      <td>0.008142</td>\n      <td>-0.002592</td>\n      <td>-0.031988</td>\n      <td>-0.046641</td>\n      <td>135.0</td>\n    </tr>\n  </tbody>\n</table>\n</div>"
     },
     "execution_count": 61,
     "metadata": {},
     "output_type": "execute_result"
    }
   ],
   "source": [
    "col_diab=np.append(feature_diab, ['target'])\n",
    "df_diab.columns = col_diab\n",
    "df_diab.head()"
   ],
   "metadata": {
    "collapsed": false,
    "ExecuteTime": {
     "end_time": "2024-08-24T06:42:11.494371Z",
     "start_time": "2024-08-24T06:42:11.476247Z"
    }
   },
   "id": "38fb972d59a42780",
   "execution_count": 61
  },
  {
   "cell_type": "code",
   "outputs": [
    {
     "name": "stdout",
     "output_type": "stream",
     "text": [
      "['mean radius' 'mean texture' 'mean perimeter' 'mean area'\n",
      " 'mean smoothness' 'mean compactness' 'mean concavity'\n",
      " 'mean concave points' 'mean symmetry' 'mean fractal dimension'\n",
      " 'radius error' 'texture error' 'perimeter error' 'area error'\n",
      " 'smoothness error' 'compactness error' 'concavity error'\n",
      " 'concave points error' 'symmetry error' 'fractal dimension error'\n",
      " 'worst radius' 'worst texture' 'worst perimeter' 'worst area'\n",
      " 'worst smoothness' 'worst compactness' 'worst concavity'\n",
      " 'worst concave points' 'worst symmetry' 'worst fractal dimension']\n"
     ]
    }
   ],
   "source": [
    "# 유방암 예측하기\n",
    "raw_bc = datasets.load_breast_cancer()\n",
    "X_bc = pd.DataFrame(raw_bc.data)\n",
    "y_bc = pd.DataFrame(raw_bc.target)\n",
    "df_bc = pd.concat([X_bc, y_bc], axis=1)\n",
    "\n",
    "feature_bc = raw_bc.feature_names\n",
    "print(feature_bc)"
   ],
   "metadata": {
    "collapsed": false,
    "ExecuteTime": {
     "end_time": "2024-08-24T06:42:11.513072Z",
     "start_time": "2024-08-24T06:42:11.496378Z"
    }
   },
   "id": "e0e7ba5f88d7c9d1",
   "execution_count": 62
  },
  {
   "cell_type": "code",
   "outputs": [
    {
     "data": {
      "text/plain": "   mean radius  mean texture  mean perimeter  mean area  mean smoothness  \\\n0        17.99         10.38          122.80     1001.0          0.11840   \n1        20.57         17.77          132.90     1326.0          0.08474   \n2        19.69         21.25          130.00     1203.0          0.10960   \n3        11.42         20.38           77.58      386.1          0.14250   \n4        20.29         14.34          135.10     1297.0          0.10030   \n\n   mean compactness  mean concavity  mean concave points  mean symmetry  \\\n0           0.27760          0.3001              0.14710         0.2419   \n1           0.07864          0.0869              0.07017         0.1812   \n2           0.15990          0.1974              0.12790         0.2069   \n3           0.28390          0.2414              0.10520         0.2597   \n4           0.13280          0.1980              0.10430         0.1809   \n\n   mean fractal dimension  ...  worst texture  worst perimeter  worst area  \\\n0                 0.07871  ...          17.33           184.60      2019.0   \n1                 0.05667  ...          23.41           158.80      1956.0   \n2                 0.05999  ...          25.53           152.50      1709.0   \n3                 0.09744  ...          26.50            98.87       567.7   \n4                 0.05883  ...          16.67           152.20      1575.0   \n\n   worst smoothness  worst compactness  worst concavity  worst concave points  \\\n0            0.1622             0.6656           0.7119                0.2654   \n1            0.1238             0.1866           0.2416                0.1860   \n2            0.1444             0.4245           0.4504                0.2430   \n3            0.2098             0.8663           0.6869                0.2575   \n4            0.1374             0.2050           0.4000                0.1625   \n\n   worst symmetry  worst fractal dimension  target  \n0          0.4601                  0.11890       0  \n1          0.2750                  0.08902       0  \n2          0.3613                  0.08758       0  \n3          0.6638                  0.17300       0  \n4          0.2364                  0.07678       0  \n\n[5 rows x 31 columns]",
      "text/html": "<div>\n<style scoped>\n    .dataframe tbody tr th:only-of-type {\n        vertical-align: middle;\n    }\n\n    .dataframe tbody tr th {\n        vertical-align: top;\n    }\n\n    .dataframe thead th {\n        text-align: right;\n    }\n</style>\n<table border=\"1\" class=\"dataframe\">\n  <thead>\n    <tr style=\"text-align: right;\">\n      <th></th>\n      <th>mean radius</th>\n      <th>mean texture</th>\n      <th>mean perimeter</th>\n      <th>mean area</th>\n      <th>mean smoothness</th>\n      <th>mean compactness</th>\n      <th>mean concavity</th>\n      <th>mean concave points</th>\n      <th>mean symmetry</th>\n      <th>mean fractal dimension</th>\n      <th>...</th>\n      <th>worst texture</th>\n      <th>worst perimeter</th>\n      <th>worst area</th>\n      <th>worst smoothness</th>\n      <th>worst compactness</th>\n      <th>worst concavity</th>\n      <th>worst concave points</th>\n      <th>worst symmetry</th>\n      <th>worst fractal dimension</th>\n      <th>target</th>\n    </tr>\n  </thead>\n  <tbody>\n    <tr>\n      <th>0</th>\n      <td>17.99</td>\n      <td>10.38</td>\n      <td>122.80</td>\n      <td>1001.0</td>\n      <td>0.11840</td>\n      <td>0.27760</td>\n      <td>0.3001</td>\n      <td>0.14710</td>\n      <td>0.2419</td>\n      <td>0.07871</td>\n      <td>...</td>\n      <td>17.33</td>\n      <td>184.60</td>\n      <td>2019.0</td>\n      <td>0.1622</td>\n      <td>0.6656</td>\n      <td>0.7119</td>\n      <td>0.2654</td>\n      <td>0.4601</td>\n      <td>0.11890</td>\n      <td>0</td>\n    </tr>\n    <tr>\n      <th>1</th>\n      <td>20.57</td>\n      <td>17.77</td>\n      <td>132.90</td>\n      <td>1326.0</td>\n      <td>0.08474</td>\n      <td>0.07864</td>\n      <td>0.0869</td>\n      <td>0.07017</td>\n      <td>0.1812</td>\n      <td>0.05667</td>\n      <td>...</td>\n      <td>23.41</td>\n      <td>158.80</td>\n      <td>1956.0</td>\n      <td>0.1238</td>\n      <td>0.1866</td>\n      <td>0.2416</td>\n      <td>0.1860</td>\n      <td>0.2750</td>\n      <td>0.08902</td>\n      <td>0</td>\n    </tr>\n    <tr>\n      <th>2</th>\n      <td>19.69</td>\n      <td>21.25</td>\n      <td>130.00</td>\n      <td>1203.0</td>\n      <td>0.10960</td>\n      <td>0.15990</td>\n      <td>0.1974</td>\n      <td>0.12790</td>\n      <td>0.2069</td>\n      <td>0.05999</td>\n      <td>...</td>\n      <td>25.53</td>\n      <td>152.50</td>\n      <td>1709.0</td>\n      <td>0.1444</td>\n      <td>0.4245</td>\n      <td>0.4504</td>\n      <td>0.2430</td>\n      <td>0.3613</td>\n      <td>0.08758</td>\n      <td>0</td>\n    </tr>\n    <tr>\n      <th>3</th>\n      <td>11.42</td>\n      <td>20.38</td>\n      <td>77.58</td>\n      <td>386.1</td>\n      <td>0.14250</td>\n      <td>0.28390</td>\n      <td>0.2414</td>\n      <td>0.10520</td>\n      <td>0.2597</td>\n      <td>0.09744</td>\n      <td>...</td>\n      <td>26.50</td>\n      <td>98.87</td>\n      <td>567.7</td>\n      <td>0.2098</td>\n      <td>0.8663</td>\n      <td>0.6869</td>\n      <td>0.2575</td>\n      <td>0.6638</td>\n      <td>0.17300</td>\n      <td>0</td>\n    </tr>\n    <tr>\n      <th>4</th>\n      <td>20.29</td>\n      <td>14.34</td>\n      <td>135.10</td>\n      <td>1297.0</td>\n      <td>0.10030</td>\n      <td>0.13280</td>\n      <td>0.1980</td>\n      <td>0.10430</td>\n      <td>0.1809</td>\n      <td>0.05883</td>\n      <td>...</td>\n      <td>16.67</td>\n      <td>152.20</td>\n      <td>1575.0</td>\n      <td>0.1374</td>\n      <td>0.2050</td>\n      <td>0.4000</td>\n      <td>0.1625</td>\n      <td>0.2364</td>\n      <td>0.07678</td>\n      <td>0</td>\n    </tr>\n  </tbody>\n</table>\n<p>5 rows × 31 columns</p>\n</div>"
     },
     "execution_count": 63,
     "metadata": {},
     "output_type": "execute_result"
    }
   ],
   "source": [
    "col_bc=np.append(feature_bc, ['target'])\n",
    "df_bc.columns = col_bc\n",
    "df_bc.head()"
   ],
   "metadata": {
    "collapsed": false,
    "ExecuteTime": {
     "end_time": "2024-08-24T06:42:11.543641Z",
     "start_time": "2024-08-24T06:42:11.516603Z"
    }
   },
   "id": "f33856f7d97f6ed6",
   "execution_count": 63
  },
  {
   "cell_type": "markdown",
   "source": [
    "### 결측치 처리하기\n",
    "\n",
    "**결측치란?**\n",
    "데이터 셋의 일부에 데이터가 존재하지 않는 경우 "
   ],
   "metadata": {
    "collapsed": false
   },
   "id": "b3626e8b50b21ad2"
  },
  {
   "cell_type": "code",
   "outputs": [
    {
     "data": {
      "text/plain": "    age   gender  month_birth    hobby   target\n0    42     male           12  reading   class2\n1    35  unknown            3  cooking   class1\n2  1000   female            7  cycling   class3\n3  1000  unknown           21  unknown  unknown",
      "text/html": "<div>\n<style scoped>\n    .dataframe tbody tr th:only-of-type {\n        vertical-align: middle;\n    }\n\n    .dataframe tbody tr th {\n        vertical-align: top;\n    }\n\n    .dataframe thead th {\n        text-align: right;\n    }\n</style>\n<table border=\"1\" class=\"dataframe\">\n  <thead>\n    <tr style=\"text-align: right;\">\n      <th></th>\n      <th>age</th>\n      <th>gender</th>\n      <th>month_birth</th>\n      <th>hobby</th>\n      <th>target</th>\n    </tr>\n  </thead>\n  <tbody>\n    <tr>\n      <th>0</th>\n      <td>42</td>\n      <td>male</td>\n      <td>12</td>\n      <td>reading</td>\n      <td>class2</td>\n    </tr>\n    <tr>\n      <th>1</th>\n      <td>35</td>\n      <td>unknown</td>\n      <td>3</td>\n      <td>cooking</td>\n      <td>class1</td>\n    </tr>\n    <tr>\n      <th>2</th>\n      <td>1000</td>\n      <td>female</td>\n      <td>7</td>\n      <td>cycling</td>\n      <td>class3</td>\n    </tr>\n    <tr>\n      <th>3</th>\n      <td>1000</td>\n      <td>unknown</td>\n      <td>21</td>\n      <td>unknown</td>\n      <td>unknown</td>\n    </tr>\n  </tbody>\n</table>\n</div>"
     },
     "execution_count": 81,
     "metadata": {},
     "output_type": "execute_result"
    }
   ],
   "source": [
    "import numpy as np\n",
    "import pandas as pd\n",
    "\n",
    "# 결측치 포함 예시 데이터 프레임 생성\n",
    "df = pd.DataFrame([\n",
    "    [42, 'male', 12, 'reading', 'class2'],\n",
    "    [35, 'unknown', 3, 'cooking', 'class1'],\n",
    "    [1000, 'female', 7, 'cycling', 'class3'],\n",
    "    [1000, 'unknown', 21, 'unknown', 'unknown']\n",
    "])\n",
    "df.columns=['age',\n",
    "            'gender',\n",
    "            'month_birth',\n",
    "            'hobby', 'target']\n",
    "\n",
    "df"
   ],
   "metadata": {
    "collapsed": false,
    "ExecuteTime": {
     "end_time": "2024-08-24T06:42:46.543098Z",
     "start_time": "2024-08-24T06:42:46.526545Z"
    }
   },
   "id": "7175a59ab5e360e2",
   "execution_count": 81
  },
  {
   "cell_type": "code",
   "outputs": [
    {
     "data": {
      "text/plain": "array([  42,   35, 1000], dtype=int64)"
     },
     "execution_count": 82,
     "metadata": {},
     "output_type": "execute_result"
    }
   ],
   "source": [
    "# 유니크 값(부적절한 값) 확인\n",
    "df['age'].unique()"
   ],
   "metadata": {
    "collapsed": false,
    "ExecuteTime": {
     "end_time": "2024-08-24T06:42:48.668523Z",
     "start_time": "2024-08-24T06:42:48.659606Z"
    }
   },
   "id": "159f01d556ac3865",
   "execution_count": 82
  },
  {
   "cell_type": "code",
   "outputs": [
    {
     "name": "stdout",
     "output_type": "stream",
     "text": [
      "['male' 'unknown' 'female']\n",
      "[12  3  7 21]\n",
      "['reading' 'cooking' 'cycling' 'unknown']\n",
      "['class2' 'class1' 'class3' 'unknown']\n"
     ]
    }
   ],
   "source": [
    "print(df['gender'].unique())\n",
    "print(df['month_birth'].unique())\n",
    "print(df['hobby'].unique())\n",
    "print(df['target'].unique())"
   ],
   "metadata": {
    "collapsed": false,
    "ExecuteTime": {
     "end_time": "2024-08-24T06:42:49.813600Z",
     "start_time": "2024-08-24T06:42:49.800895Z"
    }
   },
   "id": "8759186d3cb7eb19",
   "execution_count": 83
  },
  {
   "cell_type": "code",
   "outputs": [
    {
     "data": {
      "text/plain": "    age  gender  month_birth    hobby  target\n0  42.0    male         12.0  reading  class2\n1  35.0     NaN          3.0  cooking  class1\n2   NaN  female          7.0  cycling  class3\n3   NaN     NaN          NaN      NaN     NaN",
      "text/html": "<div>\n<style scoped>\n    .dataframe tbody tr th:only-of-type {\n        vertical-align: middle;\n    }\n\n    .dataframe tbody tr th {\n        vertical-align: top;\n    }\n\n    .dataframe thead th {\n        text-align: right;\n    }\n</style>\n<table border=\"1\" class=\"dataframe\">\n  <thead>\n    <tr style=\"text-align: right;\">\n      <th></th>\n      <th>age</th>\n      <th>gender</th>\n      <th>month_birth</th>\n      <th>hobby</th>\n      <th>target</th>\n    </tr>\n  </thead>\n  <tbody>\n    <tr>\n      <th>0</th>\n      <td>42.0</td>\n      <td>male</td>\n      <td>12.0</td>\n      <td>reading</td>\n      <td>class2</td>\n    </tr>\n    <tr>\n      <th>1</th>\n      <td>35.0</td>\n      <td>NaN</td>\n      <td>3.0</td>\n      <td>cooking</td>\n      <td>class1</td>\n    </tr>\n    <tr>\n      <th>2</th>\n      <td>NaN</td>\n      <td>female</td>\n      <td>7.0</td>\n      <td>cycling</td>\n      <td>class3</td>\n    </tr>\n    <tr>\n      <th>3</th>\n      <td>NaN</td>\n      <td>NaN</td>\n      <td>NaN</td>\n      <td>NaN</td>\n      <td>NaN</td>\n    </tr>\n  </tbody>\n</table>\n</div>"
     },
     "execution_count": 101,
     "metadata": {},
     "output_type": "execute_result"
    }
   ],
   "source": [
    "# 부적절한 값을 결측치(nan)값으로 변환\n",
    "df.loc[df['age']>150, ['age']] = np.nan\n",
    "df.loc[df['gender']=='unknown', ['gender']] = np.nan\n",
    "df.loc[df['month_birth']>12, ['month_birth']] = np.nan\n",
    "df.loc[df['hobby']=='unknown', ['hobby']] = np.nan\n",
    "df.loc[df['target']=='unknown', ['target']] = np.nan\n",
    "\n",
    "df"
   ],
   "metadata": {
    "collapsed": false,
    "ExecuteTime": {
     "end_time": "2024-08-24T06:44:58.023810Z",
     "start_time": "2024-08-24T06:44:57.995390Z"
    }
   },
   "id": "81598b993900a42e",
   "execution_count": 101
  },
  {
   "cell_type": "code",
   "outputs": [
    {
     "data": {
      "text/plain": "age            2\ngender         2\nmonth_birth    1\nhobby          1\ntarget         1\ndtype: int64"
     },
     "execution_count": 102,
     "metadata": {},
     "output_type": "execute_result"
    }
   ],
   "source": [
    "# 각 열의 결측치 개수 확인\n",
    "df.isnull().sum()"
   ],
   "metadata": {
    "collapsed": false,
    "ExecuteTime": {
     "end_time": "2024-08-24T06:45:00.879623Z",
     "start_time": "2024-08-24T06:45:00.869482Z"
    }
   },
   "id": "c947350014cf735a",
   "execution_count": 102
  },
  {
   "cell_type": "code",
   "outputs": [
    {
     "data": {
      "text/plain": "    age gender  month_birth    hobby  target\n0  42.0   male         12.0  reading  class2",
      "text/html": "<div>\n<style scoped>\n    .dataframe tbody tr th:only-of-type {\n        vertical-align: middle;\n    }\n\n    .dataframe tbody tr th {\n        vertical-align: top;\n    }\n\n    .dataframe thead th {\n        text-align: right;\n    }\n</style>\n<table border=\"1\" class=\"dataframe\">\n  <thead>\n    <tr style=\"text-align: right;\">\n      <th></th>\n      <th>age</th>\n      <th>gender</th>\n      <th>month_birth</th>\n      <th>hobby</th>\n      <th>target</th>\n    </tr>\n  </thead>\n  <tbody>\n    <tr>\n      <th>0</th>\n      <td>42.0</td>\n      <td>male</td>\n      <td>12.0</td>\n      <td>reading</td>\n      <td>class2</td>\n    </tr>\n  </tbody>\n</table>\n</div>"
     },
     "execution_count": 103,
     "metadata": {},
     "output_type": "execute_result"
    }
   ],
   "source": [
    "# 결측치를 포함한 행 삭제\n",
    "df2 = df.dropna(axis=0)\n",
    "df2"
   ],
   "metadata": {
    "collapsed": false,
    "ExecuteTime": {
     "end_time": "2024-08-24T06:45:02.816877Z",
     "start_time": "2024-08-24T06:45:02.801267Z"
    }
   },
   "id": "17fda77bf69c3b5f",
   "execution_count": 103
  },
  {
   "cell_type": "code",
   "outputs": [
    {
     "data": {
      "text/plain": "Empty DataFrame\nColumns: []\nIndex: [0, 1, 2, 3]",
      "text/html": "<div>\n<style scoped>\n    .dataframe tbody tr th:only-of-type {\n        vertical-align: middle;\n    }\n\n    .dataframe tbody tr th {\n        vertical-align: top;\n    }\n\n    .dataframe thead th {\n        text-align: right;\n    }\n</style>\n<table border=\"1\" class=\"dataframe\">\n  <thead>\n    <tr style=\"text-align: right;\">\n      <th></th>\n    </tr>\n  </thead>\n  <tbody>\n    <tr>\n      <th>0</th>\n    </tr>\n    <tr>\n      <th>1</th>\n    </tr>\n    <tr>\n      <th>2</th>\n    </tr>\n    <tr>\n      <th>3</th>\n    </tr>\n  </tbody>\n</table>\n</div>"
     },
     "execution_count": 104,
     "metadata": {},
     "output_type": "execute_result"
    }
   ],
   "source": [
    "# 결측치를 포함한 열 삭제\n",
    "df3 = df.dropna(axis=1)\n",
    "df3"
   ],
   "metadata": {
    "collapsed": false,
    "ExecuteTime": {
     "end_time": "2024-08-24T06:45:06.457162Z",
     "start_time": "2024-08-24T06:45:06.444635Z"
    }
   },
   "id": "8ada5968c56932b4",
   "execution_count": 104
  },
  {
   "cell_type": "code",
   "outputs": [
    {
     "data": {
      "text/plain": "    age  gender  month_birth    hobby  target\n0  42.0    male         12.0  reading  class2\n1  35.0     NaN          3.0  cooking  class1\n2   NaN  female          7.0  cycling  class3",
      "text/html": "<div>\n<style scoped>\n    .dataframe tbody tr th:only-of-type {\n        vertical-align: middle;\n    }\n\n    .dataframe tbody tr th {\n        vertical-align: top;\n    }\n\n    .dataframe thead th {\n        text-align: right;\n    }\n</style>\n<table border=\"1\" class=\"dataframe\">\n  <thead>\n    <tr style=\"text-align: right;\">\n      <th></th>\n      <th>age</th>\n      <th>gender</th>\n      <th>month_birth</th>\n      <th>hobby</th>\n      <th>target</th>\n    </tr>\n  </thead>\n  <tbody>\n    <tr>\n      <th>0</th>\n      <td>42.0</td>\n      <td>male</td>\n      <td>12.0</td>\n      <td>reading</td>\n      <td>class2</td>\n    </tr>\n    <tr>\n      <th>1</th>\n      <td>35.0</td>\n      <td>NaN</td>\n      <td>3.0</td>\n      <td>cooking</td>\n      <td>class1</td>\n    </tr>\n    <tr>\n      <th>2</th>\n      <td>NaN</td>\n      <td>female</td>\n      <td>7.0</td>\n      <td>cycling</td>\n      <td>class3</td>\n    </tr>\n  </tbody>\n</table>\n</div>"
     },
     "execution_count": 105,
     "metadata": {},
     "output_type": "execute_result"
    }
   ],
   "source": [
    "# 모든 값이 결측치인 행 삭제\n",
    "df4 = df.dropna(how='all')\n",
    "df4"
   ],
   "metadata": {
    "collapsed": false,
    "ExecuteTime": {
     "end_time": "2024-08-24T06:45:08.683367Z",
     "start_time": "2024-08-24T06:45:08.667090Z"
    }
   },
   "id": "d32d7c060ec0a981",
   "execution_count": 105
  },
  {
   "cell_type": "code",
   "outputs": [
    {
     "data": {
      "text/plain": "    age  gender  month_birth    hobby  target\n0  42.0    male         12.0  reading  class2\n1  35.0     NaN          3.0  cooking  class1\n2   NaN  female          7.0  cycling  class3",
      "text/html": "<div>\n<style scoped>\n    .dataframe tbody tr th:only-of-type {\n        vertical-align: middle;\n    }\n\n    .dataframe tbody tr th {\n        vertical-align: top;\n    }\n\n    .dataframe thead th {\n        text-align: right;\n    }\n</style>\n<table border=\"1\" class=\"dataframe\">\n  <thead>\n    <tr style=\"text-align: right;\">\n      <th></th>\n      <th>age</th>\n      <th>gender</th>\n      <th>month_birth</th>\n      <th>hobby</th>\n      <th>target</th>\n    </tr>\n  </thead>\n  <tbody>\n    <tr>\n      <th>0</th>\n      <td>42.0</td>\n      <td>male</td>\n      <td>12.0</td>\n      <td>reading</td>\n      <td>class2</td>\n    </tr>\n    <tr>\n      <th>1</th>\n      <td>35.0</td>\n      <td>NaN</td>\n      <td>3.0</td>\n      <td>cooking</td>\n      <td>class1</td>\n    </tr>\n    <tr>\n      <th>2</th>\n      <td>NaN</td>\n      <td>female</td>\n      <td>7.0</td>\n      <td>cycling</td>\n      <td>class3</td>\n    </tr>\n  </tbody>\n</table>\n</div>"
     },
     "execution_count": 106,
     "metadata": {},
     "output_type": "execute_result"
    }
   ],
   "source": [
    "# 값이 2개 미만인 행 삭제\n",
    "df5 = df.dropna(thresh=2)\n",
    "df5"
   ],
   "metadata": {
    "collapsed": false,
    "ExecuteTime": {
     "end_time": "2024-08-24T06:45:18.630311Z",
     "start_time": "2024-08-24T06:45:18.614004Z"
    }
   },
   "id": "879a5e4083bfba26",
   "execution_count": 106
  },
  {
   "cell_type": "code",
   "outputs": [
    {
     "data": {
      "text/plain": "    age  gender  month_birth    hobby  target\n0  42.0    male         12.0  reading  class2\n2   NaN  female          7.0  cycling  class3",
      "text/html": "<div>\n<style scoped>\n    .dataframe tbody tr th:only-of-type {\n        vertical-align: middle;\n    }\n\n    .dataframe tbody tr th {\n        vertical-align: top;\n    }\n\n    .dataframe thead th {\n        text-align: right;\n    }\n</style>\n<table border=\"1\" class=\"dataframe\">\n  <thead>\n    <tr style=\"text-align: right;\">\n      <th></th>\n      <th>age</th>\n      <th>gender</th>\n      <th>month_birth</th>\n      <th>hobby</th>\n      <th>target</th>\n    </tr>\n  </thead>\n  <tbody>\n    <tr>\n      <th>0</th>\n      <td>42.0</td>\n      <td>male</td>\n      <td>12.0</td>\n      <td>reading</td>\n      <td>class2</td>\n    </tr>\n    <tr>\n      <th>2</th>\n      <td>NaN</td>\n      <td>female</td>\n      <td>7.0</td>\n      <td>cycling</td>\n      <td>class3</td>\n    </tr>\n  </tbody>\n</table>\n</div>"
     },
     "execution_count": 107,
     "metadata": {},
     "output_type": "execute_result"
    }
   ],
   "source": [
    "# 특정 열에 결측치가 있는 경우\n",
    "df6 = df.dropna(subset=['gender'])\n",
    "df6"
   ],
   "metadata": {
    "collapsed": false,
    "ExecuteTime": {
     "end_time": "2024-08-24T06:45:22.955098Z",
     "start_time": "2024-08-24T06:45:22.937535Z"
    }
   },
   "id": "cadffedf1483ae22",
   "execution_count": 107
  },
  {
   "cell_type": "code",
   "outputs": [
    {
     "data": {
      "text/plain": "    age  gender  month_birth    hobby  target\n0  42.0    male         12.0  reading  class2\n1  35.0       U          3.0  cooking  class1\n2   0.0  female          7.0  cycling  class3\n3   0.0       U          0.0      NaN  class4",
      "text/html": "<div>\n<style scoped>\n    .dataframe tbody tr th:only-of-type {\n        vertical-align: middle;\n    }\n\n    .dataframe tbody tr th {\n        vertical-align: top;\n    }\n\n    .dataframe thead th {\n        text-align: right;\n    }\n</style>\n<table border=\"1\" class=\"dataframe\">\n  <thead>\n    <tr style=\"text-align: right;\">\n      <th></th>\n      <th>age</th>\n      <th>gender</th>\n      <th>month_birth</th>\n      <th>hobby</th>\n      <th>target</th>\n    </tr>\n  </thead>\n  <tbody>\n    <tr>\n      <th>0</th>\n      <td>42.0</td>\n      <td>male</td>\n      <td>12.0</td>\n      <td>reading</td>\n      <td>class2</td>\n    </tr>\n    <tr>\n      <th>1</th>\n      <td>35.0</td>\n      <td>U</td>\n      <td>3.0</td>\n      <td>cooking</td>\n      <td>class1</td>\n    </tr>\n    <tr>\n      <th>2</th>\n      <td>0.0</td>\n      <td>female</td>\n      <td>7.0</td>\n      <td>cycling</td>\n      <td>class3</td>\n    </tr>\n    <tr>\n      <th>3</th>\n      <td>0.0</td>\n      <td>U</td>\n      <td>0.0</td>\n      <td>NaN</td>\n      <td>class4</td>\n    </tr>\n  </tbody>\n</table>\n</div>"
     },
     "execution_count": 153,
     "metadata": {},
     "output_type": "execute_result"
    }
   ],
   "source": [
    "# 결측치 대체하기\n",
    "alter_values = {'age': 0, 'gender': 'U', 'month_birth': 0, 'target': 'class4'}\n",
    "df7=df.fillna(value=alter_values)\n",
    "df7"
   ],
   "metadata": {
    "collapsed": false,
    "ExecuteTime": {
     "end_time": "2024-08-24T07:36:16.641500Z",
     "start_time": "2024-08-24T07:36:16.624933Z"
    }
   },
   "id": "173bf1e1bf766992",
   "execution_count": 153
  },
  {
   "cell_type": "markdown",
   "source": [
    "### 클래스 라벨 설정하기 \n",
    "문자열을 정수로 변환"
   ],
   "metadata": {
    "collapsed": false
   },
   "id": "b6d8797527aa4e23"
  },
  {
   "cell_type": "code",
   "outputs": [
    {
     "data": {
      "text/plain": "array([1, 0, 2, 3])"
     },
     "execution_count": 154,
     "metadata": {},
     "output_type": "execute_result"
    }
   ],
   "source": [
    "# 사이킷런의 preprocessing 패키지의 LabelEncoder 함수를 사용\n",
    "from sklearn.preprocessing import LabelEncoder\n",
    "df8 = df7\n",
    "class_label = LabelEncoder()\n",
    "data_value = df8['target'].values\n",
    "y_new = class_label.fit_transform(data_value)\n",
    "y_new"
   ],
   "metadata": {
    "collapsed": false,
    "ExecuteTime": {
     "end_time": "2024-08-24T07:36:19.608656Z",
     "start_time": "2024-08-24T07:36:19.598874Z"
    }
   },
   "id": "d86c2674a1ec4094",
   "execution_count": 154
  },
  {
   "cell_type": "code",
   "outputs": [
    {
     "data": {
      "text/plain": "    age  gender  month_birth    hobby  target\n0  42.0    male         12.0  reading       1\n1  35.0       U          3.0  cooking       0\n2   0.0  female          7.0  cycling       2\n3   0.0       U          0.0      NaN       3",
      "text/html": "<div>\n<style scoped>\n    .dataframe tbody tr th:only-of-type {\n        vertical-align: middle;\n    }\n\n    .dataframe tbody tr th {\n        vertical-align: top;\n    }\n\n    .dataframe thead th {\n        text-align: right;\n    }\n</style>\n<table border=\"1\" class=\"dataframe\">\n  <thead>\n    <tr style=\"text-align: right;\">\n      <th></th>\n      <th>age</th>\n      <th>gender</th>\n      <th>month_birth</th>\n      <th>hobby</th>\n      <th>target</th>\n    </tr>\n  </thead>\n  <tbody>\n    <tr>\n      <th>0</th>\n      <td>42.0</td>\n      <td>male</td>\n      <td>12.0</td>\n      <td>reading</td>\n      <td>1</td>\n    </tr>\n    <tr>\n      <th>1</th>\n      <td>35.0</td>\n      <td>U</td>\n      <td>3.0</td>\n      <td>cooking</td>\n      <td>0</td>\n    </tr>\n    <tr>\n      <th>2</th>\n      <td>0.0</td>\n      <td>female</td>\n      <td>7.0</td>\n      <td>cycling</td>\n      <td>2</td>\n    </tr>\n    <tr>\n      <th>3</th>\n      <td>0.0</td>\n      <td>U</td>\n      <td>0.0</td>\n      <td>NaN</td>\n      <td>3</td>\n    </tr>\n  </tbody>\n</table>\n</div>"
     },
     "execution_count": 155,
     "metadata": {},
     "output_type": "execute_result"
    }
   ],
   "source": [
    "df8['target'] = y_new\n",
    "df8"
   ],
   "metadata": {
    "collapsed": false,
    "ExecuteTime": {
     "end_time": "2024-08-24T07:36:22.844541Z",
     "start_time": "2024-08-24T07:36:22.828103Z"
    }
   },
   "id": "19f068c57e2fb139",
   "execution_count": 155
  },
  {
   "cell_type": "code",
   "outputs": [
    {
     "data": {
      "text/plain": "array(['class2', 'class1', 'class3', 'class4'], dtype=object)"
     },
     "execution_count": 156,
     "metadata": {},
     "output_type": "execute_result"
    }
   ],
   "source": [
    "# 클래스 라벨링 이후 다시 돌리려면\n",
    "y_ori = class_label.inverse_transform(y_new)\n",
    "y_ori"
   ],
   "metadata": {
    "collapsed": false,
    "ExecuteTime": {
     "end_time": "2024-08-24T07:36:25.156556Z",
     "start_time": "2024-08-24T07:36:25.144311Z"
    }
   },
   "id": "1da0c6da06801a0",
   "execution_count": 156
  },
  {
   "cell_type": "code",
   "outputs": [
    {
     "data": {
      "text/plain": "    age  gender  month_birth    hobby  target\n0  42.0    male         12.0  reading  class2\n1  35.0       U          3.0  cooking  class1\n2   0.0  female          7.0  cycling  class3\n3   0.0       U          0.0      NaN  class4",
      "text/html": "<div>\n<style scoped>\n    .dataframe tbody tr th:only-of-type {\n        vertical-align: middle;\n    }\n\n    .dataframe tbody tr th {\n        vertical-align: top;\n    }\n\n    .dataframe thead th {\n        text-align: right;\n    }\n</style>\n<table border=\"1\" class=\"dataframe\">\n  <thead>\n    <tr style=\"text-align: right;\">\n      <th></th>\n      <th>age</th>\n      <th>gender</th>\n      <th>month_birth</th>\n      <th>hobby</th>\n      <th>target</th>\n    </tr>\n  </thead>\n  <tbody>\n    <tr>\n      <th>0</th>\n      <td>42.0</td>\n      <td>male</td>\n      <td>12.0</td>\n      <td>reading</td>\n      <td>class2</td>\n    </tr>\n    <tr>\n      <th>1</th>\n      <td>35.0</td>\n      <td>U</td>\n      <td>3.0</td>\n      <td>cooking</td>\n      <td>class1</td>\n    </tr>\n    <tr>\n      <th>2</th>\n      <td>0.0</td>\n      <td>female</td>\n      <td>7.0</td>\n      <td>cycling</td>\n      <td>class3</td>\n    </tr>\n    <tr>\n      <th>3</th>\n      <td>0.0</td>\n      <td>U</td>\n      <td>0.0</td>\n      <td>NaN</td>\n      <td>class4</td>\n    </tr>\n  </tbody>\n</table>\n</div>"
     },
     "execution_count": 157,
     "metadata": {},
     "output_type": "execute_result"
    }
   ],
   "source": [
    "df8['target'] = y_ori\n",
    "df8"
   ],
   "metadata": {
    "collapsed": false,
    "ExecuteTime": {
     "end_time": "2024-08-24T07:36:27.239951Z",
     "start_time": "2024-08-24T07:36:27.209044Z"
    }
   },
   "id": "7095e2deb1e0b037",
   "execution_count": 157
  },
  {
   "cell_type": "code",
   "outputs": [
    {
     "name": "stdout",
     "output_type": "stream",
     "text": [
      "{'class1': 0, 'class2': 1, 'class3': 2, 'class4': 3}\n"
     ]
    },
    {
     "data": {
      "text/plain": "    age  gender  month_birth    hobby  target\n0  42.0    male         12.0  reading       1\n1  35.0       U          3.0  cooking       0\n2   0.0  female          7.0  cycling       2\n3   0.0       U          0.0      NaN       3",
      "text/html": "<div>\n<style scoped>\n    .dataframe tbody tr th:only-of-type {\n        vertical-align: middle;\n    }\n\n    .dataframe tbody tr th {\n        vertical-align: top;\n    }\n\n    .dataframe thead th {\n        text-align: right;\n    }\n</style>\n<table border=\"1\" class=\"dataframe\">\n  <thead>\n    <tr style=\"text-align: right;\">\n      <th></th>\n      <th>age</th>\n      <th>gender</th>\n      <th>month_birth</th>\n      <th>hobby</th>\n      <th>target</th>\n    </tr>\n  </thead>\n  <tbody>\n    <tr>\n      <th>0</th>\n      <td>42.0</td>\n      <td>male</td>\n      <td>12.0</td>\n      <td>reading</td>\n      <td>1</td>\n    </tr>\n    <tr>\n      <th>1</th>\n      <td>35.0</td>\n      <td>U</td>\n      <td>3.0</td>\n      <td>cooking</td>\n      <td>0</td>\n    </tr>\n    <tr>\n      <th>2</th>\n      <td>0.0</td>\n      <td>female</td>\n      <td>7.0</td>\n      <td>cycling</td>\n      <td>2</td>\n    </tr>\n    <tr>\n      <th>3</th>\n      <td>0.0</td>\n      <td>U</td>\n      <td>0.0</td>\n      <td>NaN</td>\n      <td>3</td>\n    </tr>\n  </tbody>\n</table>\n</div>"
     },
     "execution_count": 158,
     "metadata": {},
     "output_type": "execute_result"
    }
   ],
   "source": [
    "# 사이킷런 라이브러리 사용하지 않고 클래스 라벨링\n",
    "y_arr = df8['target'].values\n",
    "unique_y = pd.unique(y_arr)\n",
    "unique_y.sort()\n",
    "dic_y = {value: idx for idx, value in enumerate(unique_y)}\n",
    "print(dic_y)\n",
    "\n",
    "df8['target'] = df8['target'].map(dic_y)\n",
    "df8"
   ],
   "metadata": {
    "collapsed": false,
    "ExecuteTime": {
     "end_time": "2024-08-24T07:36:29.931300Z",
     "start_time": "2024-08-24T07:36:29.889603Z"
    }
   },
   "id": "8505ab3806f23282",
   "execution_count": 158
  },
  {
   "cell_type": "markdown",
   "source": [
    "### 원-핫 인코딩(더미 변수)\n",
    "오직 0과 1만 사용한 벡터를 이용해 데이터 값을 나타내는 것"
   ],
   "metadata": {
    "collapsed": false
   },
   "id": "2f198c56f526e32a"
  },
  {
   "cell_type": "code",
   "outputs": [
    {
     "name": "stdout",
     "output_type": "stream",
     "text": [
      "       0      1      2      3\n",
      "0  False   True  False  False\n",
      "1   True  False  False  False\n",
      "2  False  False   True  False\n",
      "3  False  False  False   True\n"
     ]
    }
   ],
   "source": [
    "df9 = df8\n",
    "\n",
    "# 타깃 데이터값을 문자열로 변환\n",
    "df9['target'] = df9['target'].astype(str)\n",
    "\n",
    "df10 = pd.get_dummies(df9['target'])\n",
    "print(df10)"
   ],
   "metadata": {
    "collapsed": false,
    "ExecuteTime": {
     "end_time": "2024-08-24T07:36:34.430139Z",
     "start_time": "2024-08-24T07:36:34.417803Z"
    }
   },
   "id": "3376753d48f32d11",
   "execution_count": 159
  },
  {
   "cell_type": "code",
   "outputs": [
    {
     "name": "stdout",
     "output_type": "stream",
     "text": [
      "       1      2      3\n",
      "0   True  False  False\n",
      "1  False  False  False\n",
      "2  False   True  False\n",
      "3  False  False   True\n"
     ]
    }
   ],
   "source": [
    "# 길이가 4인 벡터에서 길이가 3인 벡터로 표현\n",
    "df9['target'] = df9['target'].astype(str)\n",
    "df11 = pd.get_dummies(df9['target'], drop_first=True)\n",
    "print(df11)"
   ],
   "metadata": {
    "collapsed": false,
    "ExecuteTime": {
     "end_time": "2024-08-24T07:36:36.430323Z",
     "start_time": "2024-08-24T07:36:36.418778Z"
    }
   },
   "id": "45b5dbc831307942",
   "execution_count": 160
  },
  {
   "cell_type": "code",
   "outputs": [
    {
     "data": {
      "text/plain": "    age  month_birth  gender_U  gender_female  gender_male  hobby_cooking  \\\n0  42.0         12.0     False          False         True          False   \n1  35.0          3.0      True          False        False           True   \n2   0.0          7.0     False           True        False          False   \n3   0.0          0.0      True          False        False          False   \n\n   hobby_cycling  hobby_reading  target_0  target_1  target_2  target_3  \n0          False           True     False      True     False     False  \n1          False          False      True     False     False     False  \n2           True          False     False     False      True     False  \n3          False          False     False     False     False      True  ",
      "text/html": "<div>\n<style scoped>\n    .dataframe tbody tr th:only-of-type {\n        vertical-align: middle;\n    }\n\n    .dataframe tbody tr th {\n        vertical-align: top;\n    }\n\n    .dataframe thead th {\n        text-align: right;\n    }\n</style>\n<table border=\"1\" class=\"dataframe\">\n  <thead>\n    <tr style=\"text-align: right;\">\n      <th></th>\n      <th>age</th>\n      <th>month_birth</th>\n      <th>gender_U</th>\n      <th>gender_female</th>\n      <th>gender_male</th>\n      <th>hobby_cooking</th>\n      <th>hobby_cycling</th>\n      <th>hobby_reading</th>\n      <th>target_0</th>\n      <th>target_1</th>\n      <th>target_2</th>\n      <th>target_3</th>\n    </tr>\n  </thead>\n  <tbody>\n    <tr>\n      <th>0</th>\n      <td>42.0</td>\n      <td>12.0</td>\n      <td>False</td>\n      <td>False</td>\n      <td>True</td>\n      <td>False</td>\n      <td>False</td>\n      <td>True</td>\n      <td>False</td>\n      <td>True</td>\n      <td>False</td>\n      <td>False</td>\n    </tr>\n    <tr>\n      <th>1</th>\n      <td>35.0</td>\n      <td>3.0</td>\n      <td>True</td>\n      <td>False</td>\n      <td>False</td>\n      <td>True</td>\n      <td>False</td>\n      <td>False</td>\n      <td>True</td>\n      <td>False</td>\n      <td>False</td>\n      <td>False</td>\n    </tr>\n    <tr>\n      <th>2</th>\n      <td>0.0</td>\n      <td>7.0</td>\n      <td>False</td>\n      <td>True</td>\n      <td>False</td>\n      <td>False</td>\n      <td>True</td>\n      <td>False</td>\n      <td>False</td>\n      <td>False</td>\n      <td>True</td>\n      <td>False</td>\n    </tr>\n    <tr>\n      <th>3</th>\n      <td>0.0</td>\n      <td>0.0</td>\n      <td>True</td>\n      <td>False</td>\n      <td>False</td>\n      <td>False</td>\n      <td>False</td>\n      <td>False</td>\n      <td>False</td>\n      <td>False</td>\n      <td>False</td>\n      <td>True</td>\n    </tr>\n  </tbody>\n</table>\n</div>"
     },
     "execution_count": 161,
     "metadata": {},
     "output_type": "execute_result"
    }
   ],
   "source": [
    "df12 = df8\n",
    "df13 = pd.get_dummies(df12)\n",
    "df13"
   ],
   "metadata": {
    "collapsed": false,
    "ExecuteTime": {
     "end_time": "2024-08-24T07:36:38.655764Z",
     "start_time": "2024-08-24T07:36:38.634937Z"
    }
   },
   "id": "1300877a50b5b599",
   "execution_count": 161
  },
  {
   "cell_type": "code",
   "outputs": [
    {
     "name": "stdout",
     "output_type": "stream",
     "text": [
      "   month_birth\n",
      "0         12.0\n",
      "1          3.0\n",
      "2          7.0\n",
      "3          0.0\n",
      "[[0. 0. 0. 1.]\n",
      " [0. 1. 0. 0.]\n",
      " [0. 0. 1. 0.]\n",
      " [1. 0. 0. 0.]]\n"
     ]
    }
   ],
   "source": [
    "# '태어난 달' 열의 데이터값을 사이킷런 라이브러리의 원-핫 인코딩\n",
    "from sklearn.preprocessing import OneHotEncoder\n",
    "hot_encoder = OneHotEncoder()\n",
    "y = df7[['month_birth']]\n",
    "print(y)\n",
    "y_hot = hot_encoder.fit_transform(y)\n",
    "print(y_hot.toarray())"
   ],
   "metadata": {
    "collapsed": false,
    "ExecuteTime": {
     "end_time": "2024-08-24T07:36:41.239055Z",
     "start_time": "2024-08-24T07:36:41.223649Z"
    }
   },
   "id": "1b7d373d7898e63b",
   "execution_count": 162
  },
  {
   "cell_type": "markdown",
   "source": [
    "### 데이터 스케일링이란?\n",
    "**데이터 값이 단위에 영향을 받지 않도록 변형하는 것**\n",
    "**1. 표준화 스케일링 :  데이터가 평균 0, 표준 편차 1이 되도록 편경하는 방법**\n",
    "**2. 로버스트 스케일링 : 표준화 스케일을 변형한 방법으로 중앙값과 사분위수를 사용 -> 극단 값의 영향을 거의 받지 않는다.** \n",
    "**3. 최소-최대 스케일링(min-max scaling) : 데이터값의 최댓값이 1, 최솟값 0으로 데이터값이 가질 수 있는 범위를 제한**\n",
    "**4. 노멀 스케일링 : 벡터의 유클리디안 길이가 1이 되도록 데이터값을 변경, 방향(각도)만 고려 / 행 기준으로 스케일링**\n",
    "\n",
    "**추가사항**\n",
    "트레인 데이터 : fit_transform\n",
    "테스트 데이터 : transform\n",
    " -> 트레이닝 데이터 스케일링에 사용했던 평균, 표준 편차등을 테스트 데이터에도 동일하게 사용하겠다는 의미"
   ],
   "metadata": {
    "collapsed": false
   },
   "id": "803621e68a80d698"
  },
  {
   "cell_type": "code",
   "outputs": [
    {
     "data": {
      "text/plain": "array([[ 1.44444444],\n       [-0.55555556],\n       [ 0.33333333],\n       [-1.22222222]])"
     },
     "execution_count": 163,
     "metadata": {},
     "output_type": "execute_result"
    }
   ],
   "source": [
    "# 표준화 스케일링\n",
    "from sklearn.preprocessing import StandardScaler\n",
    "\n",
    "std = StandardScaler()\n",
    "x_std = std.fit_transform(df8[['month_birth']])\n",
    "x_std"
   ],
   "metadata": {
    "collapsed": false,
    "ExecuteTime": {
     "end_time": "2024-08-24T07:36:52.808909Z",
     "start_time": "2024-08-24T07:36:52.786113Z"
    }
   },
   "id": "5385c244084a33cc",
   "execution_count": 163
  },
  {
   "cell_type": "code",
   "outputs": [
    {
     "name": "stdout",
     "output_type": "stream",
     "text": [
      "-5.551115123125783e-17\n",
      "1.0\n"
     ]
    }
   ],
   "source": [
    "print(np.mean(x_std))\n",
    "print(np.std(x_std))"
   ],
   "metadata": {
    "collapsed": false,
    "ExecuteTime": {
     "end_time": "2024-08-24T07:45:00.063199Z",
     "start_time": "2024-08-24T07:45:00.056740Z"
    }
   },
   "id": "4ac175e84679e312",
   "execution_count": 167
  },
  {
   "cell_type": "code",
   "outputs": [
    {
     "data": {
      "text/plain": "array([[ 1.16666667],\n       [-0.33333333],\n       [ 0.33333333],\n       [-0.83333333]])"
     },
     "execution_count": 168,
     "metadata": {},
     "output_type": "execute_result"
    }
   ],
   "source": [
    "#로버스트 스케일링\n",
    "from sklearn.preprocessing import RobustScaler\n",
    "\n",
    "robust = RobustScaler()\n",
    "robust.fit(df8[['month_birth']])\n",
    "x_robust = robust.transform(df8[['month_birth']])\n",
    "x_robust"
   ],
   "metadata": {
    "collapsed": false,
    "ExecuteTime": {
     "end_time": "2024-08-24T08:01:28.736064Z",
     "start_time": "2024-08-24T08:01:28.714465Z"
    }
   },
   "id": "ca78dc09f231f098",
   "execution_count": 168
  },
  {
   "cell_type": "code",
   "outputs": [
    {
     "data": {
      "text/plain": "array([[1.        ],\n       [0.25      ],\n       [0.58333333],\n       [0.        ]])"
     },
     "execution_count": 169,
     "metadata": {},
     "output_type": "execute_result"
    }
   ],
   "source": [
    "#최소-최대 스케일링\n",
    "from sklearn.preprocessing import MinMaxScaler\n",
    "\n",
    "minmax = MinMaxScaler()\n",
    "minmax.fit(df8[['month_birth']])\n",
    "x_minmax = minmax.transform(df8[['month_birth']])\n",
    "x_minmax"
   ],
   "metadata": {
    "collapsed": false,
    "ExecuteTime": {
     "end_time": "2024-08-24T08:06:09.370038Z",
     "start_time": "2024-08-24T08:06:09.355990Z"
    }
   },
   "id": "42e73ee0edf6f0b5",
   "execution_count": 169
  },
  {
   "cell_type": "code",
   "outputs": [
    {
     "data": {
      "text/plain": "array([[0.96152395, 0.27472113],\n       [0.99634665, 0.08540114],\n       [0.        , 1.        ],\n       [0.        , 0.        ]])"
     },
     "execution_count": 170,
     "metadata": {},
     "output_type": "execute_result"
    }
   ],
   "source": [
    "# 노멀 스케일링\n",
    "from sklearn.preprocessing import Normalizer\n",
    "\n",
    "normal = Normalizer()\n",
    "normal.fit(df8[['age', 'month_birth']])\n",
    "x_normal = normal.transform(df8[['age', 'month_birth']])\n",
    "x_normal"
   ],
   "metadata": {
    "collapsed": false,
    "ExecuteTime": {
     "end_time": "2024-08-24T08:26:03.586006Z",
     "start_time": "2024-08-24T08:26:03.568190Z"
    }
   },
   "id": "92819b3b42705727",
   "execution_count": 170
  },
  {
   "cell_type": "code",
   "outputs": [],
   "source": [],
   "metadata": {
    "collapsed": false
   },
   "id": "71a1c6056cbb7845"
  }
 ],
 "metadata": {
  "kernelspec": {
   "display_name": "Python 3",
   "language": "python",
   "name": "python3"
  },
  "language_info": {
   "codemirror_mode": {
    "name": "ipython",
    "version": 2
   },
   "file_extension": ".py",
   "mimetype": "text/x-python",
   "name": "python",
   "nbconvert_exporter": "python",
   "pygments_lexer": "ipython2",
   "version": "2.7.6"
  }
 },
 "nbformat": 4,
 "nbformat_minor": 5
}
